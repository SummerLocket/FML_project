{
  "nbformat": 4,
  "nbformat_minor": 0,
  "metadata": {
    "colab": {
      "provenance": []
    },
    "kernelspec": {
      "name": "python3",
      "display_name": "Python 3"
    },
    "language_info": {
      "name": "python"
    }
  },
  "cells": [
    {
      "cell_type": "code",
      "source": [],
      "metadata": {
        "id": "2hR_iHYpPgSU"
      },
      "execution_count": null,
      "outputs": []
    },
    {
      "cell_type": "code",
      "source": [
        "import pandas as pd\n",
        "from sklearn.ensemble import RandomForestClassifier\n",
        "from sklearn.model_selection import train_test_split\n",
        "from sklearn.metrics import mean_squared_error, r2_score, mean_absolute_error\n",
        "from sklearn.metrics import accuracy_score\n",
        "\n",
        "# Load the Excel file into a DataFrame\n",
        "file_path1 = '/content/cleaned_data.xlsx'\n",
        "file_path2 = '/content/cleaned_data_only_input.xlsx'\n",
        "\n",
        "data1 = pd.read_excel(file_path1)\n",
        "data2 = pd.read_excel(file_path2)\n",
        "\n",
        "target_column = 'ALERT'\n",
        "# features = ['feature1', 'feature2', 'feature3']\n",
        "\n",
        "X = data2\n",
        "y = data1[target_column]\n",
        "\n",
        "# Split the data into training and testing sets\n",
        "X_train, X_test, y_train, y_test = train_test_split(X, y, test_size=0.2, random_state=42)\n",
        "\n",
        "# Create a Random Forest Regressor model\n",
        "model = RandomForestClassifier(n_estimators=100)\n",
        "\n",
        "# Train the model\n",
        "model.fit(X_train, y_train)\n",
        "\n",
        "# Make predictions\n",
        "y_pred = model.predict(X_test)\n",
        "\n",
        "# Evaluate the model\n",
        "mse = mean_squared_error(y_test, y_pred)\n",
        "rmse = mean_squared_error(y_test, y_pred, squared=False)\n",
        "mae = mean_absolute_error(y_test, y_pred)\n",
        "r2 = r2_score(y_test, y_pred)\n",
        "\n",
        "print(f\"Mean Squared Error (MSE): {mse}\")\n",
        "print(f\"Root Mean Squared Error (RMSE): {rmse}\")\n",
        "print(f\"Mean Absolute Error (MAE): {mae}\")\n",
        "print(f\"R-squared (R2): {r2}\")\n",
        "\n",
        "predictions = model.predict(X_test)\n",
        "\n",
        "# Calculate accuracy\n",
        "accuracy = accuracy_score(y_test, predictions)\n",
        "print(accuracy)"
      ],
      "metadata": {
        "colab": {
          "base_uri": "https://localhost:8080/"
        },
        "id": "EJPWNAiKVzdl",
        "outputId": "190e096b-b6dc-4ced-8f15-63205cccf1df"
      },
      "execution_count": null,
      "outputs": [
        {
          "output_type": "stream",
          "name": "stdout",
          "text": [
            "Mean Squared Error (MSE): 0.13126491646778043\n",
            "Root Mean Squared Error (RMSE): 0.36230500475121846\n",
            "Mean Absolute Error (MAE): 0.13126491646778043\n",
            "R-squared (R2): -0.151098901098901\n",
            "0.8687350835322196\n"
          ]
        }
      ]
    },
    {
      "cell_type": "code",
      "source": [
        "import pandas as pd\n",
        "from sklearn.ensemble import RandomForestClassifier\n",
        "from sklearn.model_selection import train_test_split\n",
        "from sklearn.metrics import mean_squared_error, r2_score, mean_absolute_error\n",
        "from sklearn.metrics import accuracy_score\n",
        "\n",
        "# Load the Excel file into a DataFrame\n",
        "file_path1 = '/content/cleaned_data.xlsx'\n",
        "file_path2 = '/content/cleaned_data_only_input.xlsx'\n",
        "\n",
        "data1 = pd.read_excel(file_path1)\n",
        "data2 = pd.read_excel(file_path2)\n",
        "\n",
        "target_column = 'ALERT'\n",
        "# features = ['feature1', 'feature2', 'feature3']\n",
        "\n",
        "X = data2\n",
        "y = data1[target_column]\n",
        "\n",
        "# Split the data into training and testing sets\n",
        "X_train, X_test, y_train, y_test = train_test_split(X, y, test_size=0.2, random_state=42)\n",
        "\n",
        "# Create a Random Forest Classifier model\n",
        "model = RandomForestClassifier(n_estimators=100)\n",
        "\n",
        "# Train the model\n",
        "model.fit(X_train, y_train)\n",
        "\n",
        "# Make predictions\n",
        "y_pred = model.predict(X_test)\n",
        "\n",
        "# Evaluate the model on testing data\n",
        "mse = mean_squared_error(y_test, y_pred)\n",
        "rmse = mean_squared_error(y_test, y_pred, squared=False)\n",
        "mae = mean_absolute_error(y_test, y_pred)\n",
        "r2 = r2_score(y_test, y_pred)\n",
        "\n",
        "print(f\"Mean Squared Error (MSE): {mse}\")\n",
        "print(f\"Root Mean Squared Error (RMSE): {rmse}\")\n",
        "print(f\"Mean Absolute Error (MAE): {mae}\")\n",
        "print(f\"R-squared (R2): {r2}\")\n",
        "\n",
        "# Calculate accuracy on testing data\n",
        "accuracy_test = accuracy_score(y_test, y_pred)\n",
        "print(f\"Testing Accuracy: {accuracy_test}\")\n",
        "\n",
        "# Predict on training data\n",
        "train_predictions = model.predict(X_train)\n",
        "\n",
        "# Calculate accuracy on training data\n",
        "accuracy_train = accuracy_score(y_train, train_predictions)\n",
        "print(f\"Training Accuracy: {accuracy_train}\")\n"
      ],
      "metadata": {
        "colab": {
          "base_uri": "https://localhost:8080/"
        },
        "id": "6MwjrOUCt6UU",
        "outputId": "76eec134-2e5b-4eac-b294-e9a26e8fe1cc"
      },
      "execution_count": null,
      "outputs": [
        {
          "output_type": "stream",
          "name": "stdout",
          "text": [
            "Mean Squared Error (MSE): 0.12410501193317422\n",
            "Root Mean Squared Error (RMSE): 0.35228541260343754\n",
            "Mean Absolute Error (MAE): 0.12410501193317422\n",
            "R-squared (R2): -0.08831168831168834\n",
            "Testing Accuracy: 0.8758949880668258\n",
            "Training Accuracy: 0.9994022713687986\n"
          ]
        }
      ]
    },
    {
      "cell_type": "code",
      "source": [
        "column_names = [\n",
        "    'filteredDemographicVO2Max', 'nremhr', 'bmi', 'minutesAsleep', 'min_goal',\n",
        "    'minutes_below_default_zone_1', 'max_goal', 'resting_hr', 'full_sleep_breathing_rate',\n",
        "    'rmssd', 'sleep_efficiency', 'sleep_light_ratio', 'very_active_minutes',\n",
        "    'minutes_in_default_zone_2', 'sleep_wake_ratio', 'nightly_temperature',\n",
        "    'sleep_duration', 'age', 'sleep_points_percentage'\n",
        "]"
      ],
      "metadata": {
        "id": "UaA1hsJgZ38P"
      },
      "execution_count": null,
      "outputs": []
    },
    {
      "cell_type": "code",
      "source": [
        "import pandas as pd\n",
        "from sklearn.ensemble import RandomForestClassifier\n",
        "from sklearn.model_selection import train_test_split\n",
        "from sklearn.metrics import mean_squared_error, r2_score, mean_absolute_error\n",
        "from sklearn.metrics import accuracy_score\n",
        "\n",
        "# Load the Excel file into a DataFrame\n",
        "file_path1 = '/content/cleaned_data.xlsx'\n",
        "file_path2 = '/content/cleaned_data_only_input.xlsx'\n",
        "\n",
        "data1 = pd.read_excel(file_path1)\n",
        "data2 = pd.read_excel(file_path2)\n",
        "\n",
        "target_column = 'ALERT'\n",
        "# features = ['feature1', 'feature2', 'feature3']\n",
        "\n",
        "X = data2[column_names]\n",
        "y = data1[target_column]\n",
        "\n",
        "# Split the data into training and testing sets\n",
        "X_train, X_test, y_train, y_test = train_test_split(X, y, test_size=0.2, random_state=42)\n",
        "\n",
        "# Create a Random Forest Regressor model\n",
        "model = RandomForestClassifier(n_estimators=100)\n",
        "\n",
        "# Train the model\n",
        "model.fit(X_train, y_train)\n",
        "\n",
        "# Make predictions\n",
        "y_pred = model.predict(X_test)\n",
        "\n",
        "# Evaluate the model\n",
        "mse = mean_squared_error(y_test, y_pred)\n",
        "rmse = mean_squared_error(y_test, y_pred, squared=False)\n",
        "mae = mean_absolute_error(y_test, y_pred)\n",
        "r2 = r2_score(y_test, y_pred)\n",
        "\n",
        "print(f\"Mean Squared Error (MSE): {mse}\")\n",
        "print(f\"Root Mean Squared Error (RMSE): {rmse}\")\n",
        "print(f\"Mean Absolute Error (MAE): {mae}\")\n",
        "print(f\"R-squared (R2): {r2}\")\n",
        "\n",
        "predictions = model.predict(X_test)\n",
        "\n",
        "# Calculate accuracy\n",
        "accuracy = accuracy_score(y_test, predictions)\n",
        "print(accuracy)\n",
        "\n",
        "# Predict on training data\n",
        "train_predictions = model.predict(X_train)\n",
        "\n",
        "# Calculate accuracy on training data\n",
        "accuracy_train = accuracy_score(y_train, train_predictions)\n",
        "print(f\"Training Accuracy: {accuracy_train}\")"
      ],
      "metadata": {
        "colab": {
          "base_uri": "https://localhost:8080/"
        },
        "id": "NppnOljUZ4sh",
        "outputId": "7fea9e73-001e-4709-a657-f726edcf14dc"
      },
      "execution_count": null,
      "outputs": [
        {
          "output_type": "stream",
          "name": "stdout",
          "text": [
            "Mean Squared Error (MSE): 0.12410501193317422\n",
            "Root Mean Squared Error (RMSE): 0.35228541260343754\n",
            "Mean Absolute Error (MAE): 0.12410501193317422\n",
            "R-squared (R2): -0.08831168831168834\n",
            "0.8758949880668258\n",
            "Training Accuracy: 0.9994022713687986\n"
          ]
        }
      ]
    },
    {
      "cell_type": "code",
      "source": [
        "column_names = [\n",
        "    'filteredDemographicVO2Max',\n",
        "    'sleep_points_percentage',\n",
        "    'sleep_wake_ratio',\n",
        "    'stress_score',\n",
        "    'exertion_points_percentage',\n",
        "    'sleep_rem_ratio',\n",
        "    'nremhr',\n",
        "    'rmssd',\n",
        "    'min_goal',\n",
        "    'nightly_temperature',\n",
        "    'sleep_efficiency',\n",
        "    'steps',\n",
        "    'minutesAfterWakeup',\n",
        "    'daily_temperature_variation',\n",
        "    'gender_FEMALE',\n",
        "    'full_sleep_breathing_rate',\n",
        "    'sleep_light_ratio'\n",
        "]"
      ],
      "metadata": {
        "id": "rqa4iA0cI0-2"
      },
      "execution_count": null,
      "outputs": []
    },
    {
      "cell_type": "code",
      "source": [
        "import pandas as pd\n",
        "from sklearn.ensemble import RandomForestClassifier\n",
        "from sklearn.model_selection import train_test_split\n",
        "from sklearn.metrics import mean_squared_error, r2_score, mean_absolute_error\n",
        "from sklearn.metrics import accuracy_score\n",
        "\n",
        "# Load the Excel file into a DataFrame\n",
        "file_path1 = '/content/cleaned_data.xlsx'\n",
        "file_path2 = '/content/cleaned_data_only_input.xlsx'\n",
        "\n",
        "data1 = pd.read_excel(file_path1)\n",
        "data2 = pd.read_excel(file_path2)\n",
        "\n",
        "target_column = 'HAPPY'\n",
        "# features = ['feature1', 'feature2', 'feature3']\n",
        "\n",
        "X = data2[column_names]\n",
        "y = data1[target_column]\n",
        "\n",
        "# Split the data into training and testing sets\n",
        "X_train, X_test, y_train, y_test = train_test_split(X, y, test_size=0.2, random_state=42)\n",
        "\n",
        "# Create a Random Forest Regressor model\n",
        "model = RandomForestClassifier(n_estimators=100)\n",
        "\n",
        "# Train the model\n",
        "model.fit(X_train, y_train)\n",
        "\n",
        "# Make predictions\n",
        "y_pred = model.predict(X_test)\n",
        "\n",
        "# Evaluate the model\n",
        "mse = mean_squared_error(y_test, y_pred)\n",
        "rmse = mean_squared_error(y_test, y_pred, squared=False)\n",
        "mae = mean_absolute_error(y_test, y_pred)\n",
        "r2 = r2_score(y_test, y_pred)\n",
        "\n",
        "print(f\"Mean Squared Error (MSE): {mse}\")\n",
        "print(f\"Root Mean Squared Error (RMSE): {rmse}\")\n",
        "print(f\"Mean Absolute Error (MAE): {mae}\")\n",
        "print(f\"R-squared (R2): {r2}\")\n",
        "\n",
        "predictions = model.predict(X_test)\n",
        "\n",
        "# Calculate accuracy\n",
        "accuracy = accuracy_score(y_test, predictions)\n",
        "print(accuracy)\n",
        "\n",
        "# Predict on training data\n",
        "train_predictions = model.predict(X_train)\n",
        "\n",
        "# Calculate accuracy on training data\n",
        "accuracy_train = accuracy_score(y_train, train_predictions)\n",
        "print(f\"Training Accuracy: {accuracy_train}\")"
      ],
      "metadata": {
        "colab": {
          "base_uri": "https://localhost:8080/"
        },
        "id": "gw5bgEJy7RQr",
        "outputId": "7d4682db-841e-4ce9-d680-bc6434b26d54"
      },
      "execution_count": null,
      "outputs": [
        {
          "output_type": "stream",
          "name": "stdout",
          "text": [
            "Mean Squared Error (MSE): 0.2577565632458234\n",
            "Root Mean Squared Error (RMSE): 0.5076973145938665\n",
            "Mean Absolute Error (MAE): 0.2577565632458234\n",
            "R-squared (R2): -0.40892957220250303\n",
            "0.7422434367541766\n",
            "Training Accuracy: 0.9994022713687986\n"
          ]
        }
      ]
    },
    {
      "cell_type": "code",
      "source": [
        "column_names = [\n",
        "    'filteredDemographicVO2Max', 'nremhr', 'full_sleep_breathing_rate',\n",
        "    'daily_temperature_variation', 'sleep_wake_ratio', 'rmssd', 'max_goal',\n",
        "    'calories', 'sleep_rem_ratio', 'resting_hr', 'min_goal', 'sleep_efficiency',\n",
        "    'minutesAwake', 'sleep_duration', 'minutes_in_default_zone_1', 'distance',\n",
        "    'sleep_deep_ratio', 'sleep_light_ratio', 'stress_score', 'nightly_temperature',\n",
        "    'responsiveness_points_percentage', 'lightly_active_minutes', 'bpm',\n",
        "    'sleep_points_percentage', 'very_active_minutes', 'minutes_below_default_zone_1'\n",
        "]"
      ],
      "metadata": {
        "id": "_LO_JwsaJkpL"
      },
      "execution_count": null,
      "outputs": []
    },
    {
      "cell_type": "code",
      "source": [
        "import pandas as pd\n",
        "from sklearn.ensemble import RandomForestClassifier\n",
        "from sklearn.model_selection import train_test_split\n",
        "from sklearn.metrics import mean_squared_error, r2_score, mean_absolute_error\n",
        "from sklearn.metrics import accuracy_score\n",
        "\n",
        "# Load the Excel file into a DataFrame\n",
        "file_path1 = '/content/cleaned_data.xlsx'\n",
        "file_path2 = '/content/cleaned_data_only_input.xlsx'\n",
        "\n",
        "data1 = pd.read_excel(file_path1)\n",
        "data2 = pd.read_excel(file_path2)\n",
        "\n",
        "target_column = 'NEUTRAL'\n",
        "# features = ['feature1', 'feature2', 'feature3']\n",
        "\n",
        "X = data2[column_names]\n",
        "y = data1[target_column]\n",
        "\n",
        "# Split the data into training and testing sets\n",
        "X_train, X_test, y_train, y_test = train_test_split(X, y, test_size=0.2, random_state=42)\n",
        "\n",
        "# Create a Random Forest Regressor model\n",
        "model = RandomForestClassifier(n_estimators=100)\n",
        "\n",
        "# Train the model\n",
        "model.fit(X_train, y_train)\n",
        "\n",
        "# Make predictions\n",
        "y_pred = model.predict(X_test)\n",
        "\n",
        "# Evaluate the model\n",
        "mse = mean_squared_error(y_test, y_pred)\n",
        "rmse = mean_squared_error(y_test, y_pred, squared=False)\n",
        "mae = mean_absolute_error(y_test, y_pred)\n",
        "r2 = r2_score(y_test, y_pred)\n",
        "\n",
        "print(f\"Mean Squared Error (MSE): {mse}\")\n",
        "print(f\"Root Mean Squared Error (RMSE): {rmse}\")\n",
        "print(f\"Mean Absolute Error (MAE): {mae}\")\n",
        "print(f\"R-squared (R2): {r2}\")\n",
        "\n",
        "predictions = model.predict(X_test)\n",
        "\n",
        "# Calculate accuracy\n",
        "accuracy = accuracy_score(y_test, predictions)\n",
        "print(accuracy)\n",
        "\n",
        "# Predict on training data\n",
        "train_predictions = model.predict(X_train)\n",
        "\n",
        "# Calculate accuracy on training data\n",
        "accuracy_train = accuracy_score(y_train, train_predictions)\n",
        "print(f\"Training Accuracy: {accuracy_train}\")"
      ],
      "metadata": {
        "colab": {
          "base_uri": "https://localhost:8080/"
        },
        "id": "ktBu5rno8ETj",
        "outputId": "47aa68ed-7d73-41f2-9349-d218013a0c01"
      },
      "execution_count": null,
      "outputs": [
        {
          "output_type": "stream",
          "name": "stdout",
          "text": [
            "Mean Squared Error (MSE): 0.21479713603818615\n",
            "Root Mean Squared Error (RMSE): 0.46346211931309567\n",
            "Mean Absolute Error (MAE): 0.21479713603818615\n",
            "R-squared (R2): -0.09057782404997416\n",
            "0.7852028639618138\n",
            "Training Accuracy: 1.0\n"
          ]
        }
      ]
    },
    {
      "cell_type": "code",
      "source": [
        "column_names = [\n",
        "    'filteredDemographicVO2Max',\n",
        "    'daily_temperature_variation',\n",
        "    'exertion_points_percentage',\n",
        "    'rmssd',\n",
        "    'bmi',\n",
        "    'lightly_active_minutes',\n",
        "    'nremhr',\n",
        "    'sleep_rem_ratio',\n",
        "    'sleep_deep_ratio',\n",
        "    'sleep_efficiency',\n",
        "    'nightly_temperature',\n",
        "    'gender_FEMALE',\n",
        "    'min_goal',\n",
        "    'sleep_wake_ratio',\n",
        "    'minutesAfterWakeup',\n",
        "    'full_sleep_breathing_rate',\n",
        "    'max_goal',\n",
        "    'sleep_points_percentage',\n",
        "    'minutesAwake',\n",
        "    'responsiveness_points_percentage',\n",
        "    'gender_MALE',\n",
        "    'resting_hr',\n",
        "    'distance',\n",
        "    'sedentary_minutes'\n",
        "]"
      ],
      "metadata": {
        "id": "omBmpLzSKgEs"
      },
      "execution_count": null,
      "outputs": []
    },
    {
      "cell_type": "code",
      "source": [
        "import pandas as pd\n",
        "from sklearn.ensemble import RandomForestClassifier\n",
        "from sklearn.model_selection import train_test_split\n",
        "from sklearn.metrics import mean_squared_error, r2_score, mean_absolute_error\n",
        "from sklearn.metrics import accuracy_score\n",
        "\n",
        "# Load the Excel file into a DataFrame\n",
        "file_path1 = '/content/cleaned_data.xlsx'\n",
        "file_path2 = '/content/cleaned_data_only_input.xlsx'\n",
        "\n",
        "data1 = pd.read_excel(file_path1)\n",
        "data2 = pd.read_excel(file_path2)\n",
        "\n",
        "target_column = 'RESTED/RELAXED'\n",
        "# features = ['feature1', 'feature2', 'feature3']\n",
        "\n",
        "X = data2[column_names]\n",
        "y = data1[target_column]\n",
        "\n",
        "# Split the data into training and testing sets\n",
        "X_train, X_test, y_train, y_test = train_test_split(X, y, test_size=0.2, random_state=42)\n",
        "\n",
        "# Create a Random Forest Regressor model\n",
        "model = RandomForestClassifier(n_estimators=100)\n",
        "\n",
        "# Train the model\n",
        "model.fit(X_train, y_train)\n",
        "\n",
        "# Make predictions\n",
        "y_pred = model.predict(X_test)\n",
        "\n",
        "# Evaluate the model\n",
        "mse = mean_squared_error(y_test, y_pred)\n",
        "rmse = mean_squared_error(y_test, y_pred, squared=False)\n",
        "mae = mean_absolute_error(y_test, y_pred)\n",
        "r2 = r2_score(y_test, y_pred)\n",
        "\n",
        "print(f\"Mean Squared Error (MSE): {mse}\")\n",
        "print(f\"Root Mean Squared Error (RMSE): {rmse}\")\n",
        "print(f\"Mean Absolute Error (MAE): {mae}\")\n",
        "print(f\"R-squared (R2): {r2}\")\n",
        "\n",
        "predictions = model.predict(X_test)\n",
        "\n",
        "# Calculate accuracy\n",
        "accuracy = accuracy_score(y_test, predictions)\n",
        "print(accuracy)\n",
        "\n",
        "# Predict on training data\n",
        "train_predictions = model.predict(X_train)\n",
        "\n",
        "# Calculate accuracy on training data\n",
        "accuracy_train = accuracy_score(y_train, train_predictions)\n",
        "print(f\"Training Accuracy: {accuracy_train}\")"
      ],
      "metadata": {
        "colab": {
          "base_uri": "https://localhost:8080/"
        },
        "id": "_vy5QH6O8SF0",
        "outputId": "acddc9e9-5bfb-4c83-8d10-d876c686f3b1"
      },
      "execution_count": null,
      "outputs": [
        {
          "output_type": "stream",
          "name": "stdout",
          "text": [
            "Mean Squared Error (MSE): 0.3198090692124105\n",
            "Root Mean Squared Error (RMSE): 0.5655166392003073\n",
            "Mean Absolute Error (MAE): 0.3198090692124105\n",
            "R-squared (R2): -0.3288994082840242\n",
            "0.6801909307875895\n",
            "Training Accuracy: 1.0\n"
          ]
        }
      ]
    },
    {
      "cell_type": "code",
      "source": [
        "column_names = [\n",
        "    'resting_hr',\n",
        "    'full_sleep_breathing_rate',\n",
        "    'filteredDemographicVO2Max',\n",
        "    'max_goal'\n",
        "]"
      ],
      "metadata": {
        "id": "N3UlHRCaLy0h"
      },
      "execution_count": null,
      "outputs": []
    },
    {
      "cell_type": "code",
      "source": [
        "import pandas as pd\n",
        "from sklearn.ensemble import RandomForestClassifier\n",
        "from sklearn.model_selection import train_test_split\n",
        "from sklearn.metrics import mean_squared_error, r2_score, mean_absolute_error\n",
        "from sklearn.metrics import accuracy_score\n",
        "\n",
        "# Load the Excel file into a DataFrame\n",
        "file_path1 = '/content/cleaned_data.xlsx'\n",
        "file_path2 = '/content/cleaned_data_only_input.xlsx'\n",
        "\n",
        "data1 = pd.read_excel(file_path1)\n",
        "data2 = pd.read_excel(file_path2)\n",
        "\n",
        "target_column = 'SAD'\n",
        "# features = ['feature1', 'feature2', 'feature3']\n",
        "\n",
        "X = data2[column_names]\n",
        "y = data1[target_column]\n",
        "\n",
        "# Split the data into training and testing sets\n",
        "X_train, X_test, y_train, y_test = train_test_split(X, y, test_size=0.2, random_state=42)\n",
        "\n",
        "# Create a Random Forest Regressor model\n",
        "model = RandomForestClassifier(n_estimators=100)\n",
        "\n",
        "# Train the model\n",
        "model.fit(X_train, y_train)\n",
        "\n",
        "# Make predictions\n",
        "y_pred = model.predict(X_test)\n",
        "\n",
        "# Evaluate the model\n",
        "mse = mean_squared_error(y_test, y_pred)\n",
        "rmse = mean_squared_error(y_test, y_pred, squared=False)\n",
        "mae = mean_absolute_error(y_test, y_pred)\n",
        "r2 = r2_score(y_test, y_pred)\n",
        "\n",
        "print(f\"Mean Squared Error (MSE): {mse}\")\n",
        "print(f\"Root Mean Squared Error (RMSE): {rmse}\")\n",
        "print(f\"Mean Absolute Error (MAE): {mae}\")\n",
        "print(f\"R-squared (R2): {r2}\")\n",
        "\n",
        "predictions = model.predict(X_test)\n",
        "\n",
        "# Calculate accuracy\n",
        "accuracy = accuracy_score(y_test, predictions)\n",
        "print(accuracy)\n",
        "\n",
        "# Predict on training data\n",
        "train_predictions = model.predict(X_train)\n",
        "\n",
        "# Calculate accuracy on training data\n",
        "accuracy_train = accuracy_score(y_train, train_predictions)\n",
        "print(f\"Training Accuracy: {accuracy_train}\")"
      ],
      "metadata": {
        "colab": {
          "base_uri": "https://localhost:8080/"
        },
        "id": "QxHy8I5F8rHd",
        "outputId": "f5e9257c-a431-4bd1-f539-98813c8984fe"
      },
      "execution_count": null,
      "outputs": [
        {
          "output_type": "stream",
          "name": "stdout",
          "text": [
            "Mean Squared Error (MSE): 0.07159904534606205\n",
            "Root Mean Squared Error (RMSE): 0.26757997934461025\n",
            "Mean Absolute Error (MAE): 0.07159904534606205\n",
            "R-squared (R2): -0.23018203170874907\n",
            "0.9284009546539379\n",
            "Training Accuracy: 0.9994022713687986\n"
          ]
        }
      ]
    },
    {
      "cell_type": "code",
      "source": [
        "column_names = [\n",
        "    'sleep_light_ratio',\n",
        "    'min_goal',\n",
        "    'rmssd',\n",
        "    'bmi',\n",
        "    'filteredDemographicVO2Max',\n",
        "    'max_goal',\n",
        "    'nremhr',\n",
        "    'steps',\n",
        "    'gender_FEMALE',\n",
        "    'stress_score'\n",
        "]"
      ],
      "metadata": {
        "id": "2kMQyfMK84Yq"
      },
      "execution_count": 1,
      "outputs": []
    },
    {
      "cell_type": "code",
      "source": [
        "import pandas as pd\n",
        "from sklearn.ensemble import RandomForestClassifier\n",
        "from sklearn.model_selection import train_test_split\n",
        "from sklearn.metrics import mean_squared_error, r2_score, mean_absolute_error\n",
        "from sklearn.metrics import accuracy_score\n",
        "\n",
        "# Load the Excel file into a DataFrame\n",
        "file_path1 = '/content/cleaned_data.xlsx'\n",
        "file_path2 = '/content/cleaned_data_only_input.xlsx'\n",
        "\n",
        "data1 = pd.read_excel(file_path1)\n",
        "data2 = pd.read_excel(file_path2)\n",
        "\n",
        "target_column = 'TENSE/ANXIOUS'\n",
        "# features = ['feature1', 'feature2', 'feature3']\n",
        "\n",
        "X = data2[column_names]\n",
        "y = data1[target_column]\n",
        "\n",
        "# Split the data into training and testing sets\n",
        "X_train, X_test, y_train, y_test = train_test_split(X, y, test_size=0.2, random_state=42)\n",
        "\n",
        "# Create a Random Forest Regressor model\n",
        "model = RandomForestClassifier(n_estimators=100)\n",
        "\n",
        "# Train the model\n",
        "model.fit(X_train, y_train)\n",
        "\n",
        "# Make predictions\n",
        "y_pred = model.predict(X_test)\n",
        "\n",
        "# Evaluate the model\n",
        "mse = mean_squared_error(y_test, y_pred)\n",
        "rmse = mean_squared_error(y_test, y_pred, squared=False)\n",
        "mae = mean_absolute_error(y_test, y_pred)\n",
        "r2 = r2_score(y_test, y_pred)\n",
        "\n",
        "print(f\"Mean Squared Error (MSE): {mse}\")\n",
        "print(f\"Root Mean Squared Error (RMSE): {rmse}\")\n",
        "print(f\"Mean Absolute Error (MAE): {mae}\")\n",
        "print(f\"R-squared (R2): {r2}\")\n",
        "\n",
        "predictions = model.predict(X_test)\n",
        "\n",
        "# Calculate accuracy\n",
        "accuracy = accuracy_score(y_test, predictions)\n",
        "print(accuracy)\n",
        "\n",
        "# Predict on training data\n",
        "train_predictions = model.predict(X_train)\n",
        "\n",
        "# Calculate accuracy on training data\n",
        "accuracy_train = accuracy_score(y_train, train_predictions)\n",
        "print(f\"Training Accuracy: {accuracy_train}\")"
      ],
      "metadata": {
        "colab": {
          "base_uri": "https://localhost:8080/"
        },
        "id": "6gZCAjLmRK50",
        "outputId": "64dbb8c5-7427-4ad7-8a13-21ca9f3b194d"
      },
      "execution_count": 3,
      "outputs": [
        {
          "output_type": "stream",
          "name": "stdout",
          "text": [
            "Mean Squared Error (MSE): 0.22673031026252982\n",
            "Root Mean Squared Error (RMSE): 0.47616206302322095\n",
            "Mean Absolute Error (MAE): 0.22673031026252982\n",
            "R-squared (R2): -0.3780986013017591\n",
            "0.7732696897374701\n",
            "Training Accuracy: 1.0\n"
          ]
        }
      ]
    },
    {
      "cell_type": "code",
      "source": [
        "column_names = [\n",
        "    'sleep_light_ratio',\n",
        "    'min_goal',\n",
        "    'rmssd',\n",
        "    'bmi',\n",
        "    'filteredDemographicVO2Max',\n",
        "    'max_goal',\n",
        "    'nremhr',\n",
        "    'steps',\n",
        "    'gender_FEMALE',\n",
        "    'stress_score'\n",
        "]"
      ],
      "metadata": {
        "id": "w9LgzhCdTDSn"
      },
      "execution_count": 20,
      "outputs": []
    },
    {
      "cell_type": "code",
      "source": [
        "import pandas as pd\n",
        "from sklearn.ensemble import RandomForestClassifier\n",
        "from sklearn.model_selection import train_test_split\n",
        "from sklearn.metrics import mean_squared_error, r2_score, mean_absolute_error\n",
        "from sklearn.metrics import accuracy_score\n",
        "\n",
        "# Load the Excel file into a DataFrame\n",
        "file_path1 = '/content/cleaned_data.xlsx'\n",
        "file_path2 = '/content/cleaned_data_only_input.xlsx'\n",
        "\n",
        "data1 = pd.read_excel(file_path1)\n",
        "data2 = pd.read_excel(file_path2)\n",
        "\n",
        "target_column = 'TIRED'\n",
        "# features = ['feature1', 'feature2', 'feature3']\n",
        "\n",
        "X = data2[column_names]\n",
        "y = data1[target_column]\n",
        "\n",
        "# Split the data into training and testing sets\n",
        "X_train, X_test, y_train, y_test = train_test_split(X, y, test_size=0.2, random_state=42)\n",
        "\n",
        "# Create a Random Forest Regressor model\n",
        "model = RandomForestClassifier(n_estimators=100)\n",
        "\n",
        "# Train the model\n",
        "model.fit(X_train, y_train)\n",
        "\n",
        "# Make predictions\n",
        "y_pred = model.predict(X_test)\n",
        "\n",
        "# Evaluate the model\n",
        "mse = mean_squared_error(y_test, y_pred)\n",
        "rmse = mean_squared_error(y_test, y_pred, squared=False)\n",
        "mae = mean_absolute_error(y_test, y_pred)\n",
        "r2 = r2_score(y_test, y_pred)\n",
        "\n",
        "print(f\"Mean Squared Error (MSE): {mse}\")\n",
        "print(f\"Root Mean Squared Error (RMSE): {rmse}\")\n",
        "print(f\"Mean Absolute Error (MAE): {mae}\")\n",
        "print(f\"R-squared (R2): {r2}\")\n",
        "\n",
        "predictions = model.predict(X_test)\n",
        "\n",
        "# Calculate accuracy\n",
        "accuracy = accuracy_score(y_test, predictions)\n",
        "print(accuracy)\n",
        "\n",
        "# Predict on training data\n",
        "train_predictions = model.predict(X_train)\n",
        "\n",
        "# Calculate accuracy on training data\n",
        "accuracy_train = accuracy_score(y_train, train_predictions)\n",
        "print(f\"Training Accuracy: {accuracy_train}\")"
      ],
      "metadata": {
        "colab": {
          "base_uri": "https://localhost:8080/"
        },
        "id": "vjeqtF_6WDgx",
        "outputId": "b9c5d12f-5e79-4520-b13c-baf16c9f6aa8"
      },
      "execution_count": 21,
      "outputs": [
        {
          "output_type": "stream",
          "name": "stdout",
          "text": [
            "Mean Squared Error (MSE): 0.3532219570405728\n",
            "Root Mean Squared Error (RMSE): 0.5943247908682363\n",
            "Mean Absolute Error (MAE): 0.3532219570405728\n",
            "R-squared (R2): -0.5323712563012752\n",
            "0.6467780429594272\n",
            "Training Accuracy: 0.9994022713687986\n"
          ]
        }
      ]
    },
    {
      "cell_type": "code",
      "source": [
        "column_names = [\n",
        "    'very_active_minutes',\n",
        "    'sleep_wake_ratio',\n",
        "    'sleep_duration',\n",
        "    'sleep_rem_ratio',\n",
        "    'sleep_efficiency',\n",
        "    'distance',\n",
        "    'nremhr',\n",
        "    'minutesAwake'\n",
        "]"
      ],
      "metadata": {
        "id": "WdlP0r65WL4Z"
      },
      "execution_count": 22,
      "outputs": []
    },
    {
      "cell_type": "code",
      "source": [
        "import pandas as pd\n",
        "from sklearn.ensemble import RandomForestClassifier\n",
        "from sklearn.model_selection import train_test_split\n",
        "from sklearn.metrics import mean_squared_error, r2_score, mean_absolute_error\n",
        "from sklearn.metrics import accuracy_score\n",
        "\n",
        "# Load the Excel file into a DataFrame\n",
        "file_path1 = '/content/cleaned_data.xlsx'\n",
        "file_path2 = '/content/cleaned_data_only_input.xlsx'\n",
        "\n",
        "data1 = pd.read_excel(file_path1)\n",
        "data2 = pd.read_excel(file_path2)\n",
        "\n",
        "target_column = 'ENTERTAINMENT'\n",
        "# features = ['feature1', 'feature2', 'feature3']\n",
        "\n",
        "X = data2[column_names]\n",
        "y = data1[target_column]\n",
        "\n",
        "# Split the data into training and testing sets\n",
        "X_train, X_test, y_train, y_test = train_test_split(X, y, test_size=0.2, random_state=42)\n",
        "\n",
        "# Create a Random Forest Regressor model\n",
        "model = RandomForestClassifier(n_estimators=100)\n",
        "\n",
        "# Train the model\n",
        "model.fit(X_train, y_train)\n",
        "\n",
        "# Make predictions\n",
        "y_pred = model.predict(X_test)\n",
        "\n",
        "# Evaluate the model\n",
        "mse = mean_squared_error(y_test, y_pred)\n",
        "rmse = mean_squared_error(y_test, y_pred, squared=False)\n",
        "mae = mean_absolute_error(y_test, y_pred)\n",
        "r2 = r2_score(y_test, y_pred)\n",
        "\n",
        "print(f\"Mean Squared Error (MSE): {mse}\")\n",
        "print(f\"Root Mean Squared Error (RMSE): {rmse}\")\n",
        "print(f\"Mean Absolute Error (MAE): {mae}\")\n",
        "print(f\"R-squared (R2): {r2}\")\n",
        "\n",
        "predictions = model.predict(X_test)\n",
        "\n",
        "# Calculate accuracy\n",
        "accuracy = accuracy_score(y_test, predictions)\n",
        "print(accuracy)\n",
        "\n",
        "# Predict on training data\n",
        "train_predictions = model.predict(X_train)\n",
        "\n",
        "# Calculate accuracy on training data\n",
        "accuracy_train = accuracy_score(y_train, train_predictions)\n",
        "print(f\"Training Accuracy: {accuracy_train}\")"
      ],
      "metadata": {
        "colab": {
          "base_uri": "https://localhost:8080/"
        },
        "id": "lSn5r-5FWft-",
        "outputId": "222c7285-6de7-402c-807b-0108db4d989b"
      },
      "execution_count": 23,
      "outputs": [
        {
          "output_type": "stream",
          "name": "stdout",
          "text": [
            "Mean Squared Error (MSE): 0.057279236276849645\n",
            "Root Mean Squared Error (RMSE): 0.23933080929301528\n",
            "Mean Absolute Error (MAE): 0.057279236276849645\n",
            "R-squared (R2): -0.02091370558375627\n",
            "0.9427207637231504\n",
            "Training Accuracy: 0.9988045427375971\n"
          ]
        }
      ]
    },
    {
      "cell_type": "code",
      "source": [
        "filteredDemographicVO2Max           0.037589\n",
        "nremhr                              0.028367\n",
        "bmi                                 0.025437\n",
        "minutesAsleep                       0.023601\n",
        "min_goal                            0.023264\n",
        "minutes_below_default_zone_1        0.023235\n",
        "max_goal                            0.021927\n",
        "resting_hr                          0.020931\n",
        "full_sleep_breathing_rate           0.020167\n",
        "rmssd                               0.016802\n",
        "sleep_efficiency                    0.016278\n",
        "sleep_light_ratio                   0.015371\n",
        "very_active_minutes                 0.014296\n",
        "minutes_in_default_zone_2           0.013173\n",
        "sleep_wake_ratio                    0.013089\n",
        "nightly_temperature                 0.012836\n",
        "sleep_duration                      0.012430\n",
        "age                                 0.011293\n",
        "sleep_points_percentage             0.010443"
      ],
      "metadata": {
        "id": "bHewD16zZCcV"
      },
      "execution_count": null,
      "outputs": []
    },
    {
      "cell_type": "markdown",
      "source": [
        "# **SVC**"
      ],
      "metadata": {
        "id": "yDODD7R9pdGC"
      }
    },
    {
      "cell_type": "code",
      "source": [
        "import pandas as pd\n",
        "from sklearn.svm import SVC\n",
        "from sklearn.model_selection import train_test_split\n",
        "from sklearn.metrics import accuracy_score, classification_report\n",
        "\n",
        "# Load the Excel file into a DataFrame\n",
        "file_path1 = '/content/cleaned_data.xlsx'\n",
        "file_path2 = '/content/cleaned_data_only_input.xlsx'\n",
        "\n",
        "data1 = pd.read_excel(file_path1)\n",
        "data2 = pd.read_excel(file_path2)\n",
        "\n",
        "target_column = 'ALERT'\n",
        "# features = ['feature1', 'feature2', 'feature3']\n",
        "\n",
        "X = data2\n",
        "y = data1[target_column]\n",
        "# Split the data into training and testing sets\n",
        "X_train, X_test, y_train, y_test = train_test_split(X, y, test_size=0.2, random_state=42)\n",
        "\n",
        "# Create a Support Vector Classifier model\n",
        "model = SVC(kernel='linear')  # You can change the kernel type ('linear', 'rbf', 'poly', etc.)\n",
        "\n",
        "# Train the model\n",
        "model.fit(X_train, y_train)\n",
        "\n",
        "# Make predictions\n",
        "y_pred = model.predict(X_test)\n",
        "\n",
        "# Calculate accuracy\n",
        "accuracy = accuracy_score(y_test, y_pred)\n",
        "print(f\"Accuracy: {accuracy:.2f}\")\n",
        "\n",
        "# Print classification report (includes precision, recall, f1-score, support)\n",
        "print(\"Classification Report:\")\n",
        "print(classification_report(y_test, y_pred))\n"
      ],
      "metadata": {
        "id": "qgHHMw63cGCp"
      },
      "execution_count": null,
      "outputs": []
    },
    {
      "cell_type": "code",
      "source": [
        "column_names = [\n",
        "    'filteredDemographicVO2Max', 'nremhr', 'bmi', 'minutesAsleep', 'min_goal',\n",
        "    'minutes_below_default_zone_1', 'max_goal', 'resting_hr', 'full_sleep_breathing_rate',\n",
        "    'rmssd', 'sleep_efficiency', 'sleep_light_ratio', 'very_active_minutes',\n",
        "    'minutes_in_default_zone_2', 'sleep_wake_ratio', 'nightly_temperature',\n",
        "    'sleep_duration', 'age', 'sleep_points_percentage'\n",
        "]"
      ],
      "metadata": {
        "id": "6GmGA4x1cZvc"
      },
      "execution_count": null,
      "outputs": []
    },
    {
      "cell_type": "code",
      "source": [
        "import pandas as pd\n",
        "from sklearn.svm import SVC\n",
        "from sklearn.model_selection import train_test_split\n",
        "from sklearn.metrics import accuracy_score, classification_report\n",
        "\n",
        "# Load the Excel file into a DataFrame\n",
        "file_path1 = '/content/cleaned_data.xlsx'\n",
        "file_path2 = '/content/cleaned_data_only_input.xlsx'\n",
        "\n",
        "data1 = pd.read_excel(file_path1)\n",
        "data2 = pd.read_excel(file_path2)\n",
        "\n",
        "target_column = 'ALERT'\n",
        "# features = ['feature1', 'feature2', 'feature3']\n",
        "\n",
        "X = data2[column_names]\n",
        "y = data1[target_column]\n",
        "# Split the data into training and testing sets\n",
        "X_train, X_test, y_train, y_test = train_test_split(X, y, test_size=0.2, random_state=42)\n",
        "\n",
        "# Create a Support Vector Classifier model\n",
        "model = SVC(kernel='linear')  # You can change the kernel type ('linear', 'rbf', 'poly', etc.)\n",
        "\n",
        "# Train the model\n",
        "model.fit(X_train, y_train)\n",
        "\n",
        "# Make predictions\n",
        "y_pred = model.predict(X_test)\n",
        "\n",
        "# Calculate accuracy\n",
        "accuracy = accuracy_score(y_test, y_pred)\n",
        "print(f\"Accuracy: {accuracy:.2f}\")\n",
        "\n",
        "# Print classification report (includes precision, recall, f1-score, support)\n",
        "print(\"Classification Report:\")\n",
        "print(classification_report(y_test, y_pred))\n"
      ],
      "metadata": {
        "id": "-oTEbFj3cbQo"
      },
      "execution_count": null,
      "outputs": []
    },
    {
      "cell_type": "markdown",
      "source": [
        "# **Boosting**"
      ],
      "metadata": {
        "id": "UJcYqiCBpkHA"
      }
    },
    {
      "cell_type": "code",
      "source": [
        "import pandas as pd\n",
        "from sklearn.ensemble import GradientBoostingClassifier\n",
        "from sklearn.model_selection import train_test_split\n",
        "from sklearn.metrics import accuracy_score, classification_report\n",
        "\n",
        "# Load the Excel file into a DataFrame\n",
        "file_path1 = '/content/cleaned_data.xlsx'\n",
        "file_path2 = '/content/cleaned_data_only_input.xlsx'\n",
        "\n",
        "data1 = pd.read_excel(file_path1)\n",
        "data2 = pd.read_excel(file_path2)\n",
        "\n",
        "target_column = 'ALERT'\n",
        "# features = ['feature1', 'feature2', 'feature3']\n",
        "\n",
        "X = data2\n",
        "y = data1[target_column]\n",
        "\n",
        "# Split the data into training and testing sets\n",
        "X_train, X_test, y_train, y_test = train_test_split(X, y, test_size=0.2, random_state=42)\n",
        "\n",
        "# Create a Gradient Boosting Classifier model\n",
        "model = GradientBoostingClassifier(n_estimators=100, learning_rate=0.1)  # You can adjust parameters like learning rate, n_estimators, etc.\n",
        "\n",
        "# Train the model\n",
        "model.fit(X_train, y_train)\n",
        "\n",
        "# Make predictions\n",
        "y_pred = model.predict(X_test)\n",
        "\n",
        "# Calculate accuracy\n",
        "accuracy = accuracy_score(y_test, y_pred)\n",
        "print(f\"Accuracy: {accuracy:.2f}\")\n",
        "\n",
        "# Print classification report (includes precision, recall, f1-score, support)\n",
        "print(\"Classification Report:\")\n",
        "print(classification_report(y_test, y_pred))\n",
        "\n",
        "# Predict on training data\n",
        "train_predictions = model.predict(X_train)\n",
        "\n",
        "# Calculate accuracy on training data\n",
        "accuracy_train = accuracy_score(y_train, train_predictions)\n",
        "print(f\"Training Accuracy: {accuracy_train}\")\n"
      ],
      "metadata": {
        "colab": {
          "base_uri": "https://localhost:8080/"
        },
        "id": "tSZoy24WpGEs",
        "outputId": "1af5bb58-344c-4d1e-8374-5abb0d557eb1"
      },
      "execution_count": null,
      "outputs": [
        {
          "output_type": "stream",
          "name": "stdout",
          "text": [
            "Accuracy: 0.87\n",
            "Classification Report:\n",
            "              precision    recall  f1-score   support\n",
            "\n",
            "           0       0.88      0.98      0.93       364\n",
            "           1       0.57      0.15      0.23        55\n",
            "\n",
            "    accuracy                           0.87       419\n",
            "   macro avg       0.73      0.56      0.58       419\n",
            "weighted avg       0.84      0.87      0.84       419\n",
            "\n",
            "Training Accuracy: 0.9199043634190077\n"
          ]
        }
      ]
    },
    {
      "cell_type": "code",
      "source": [
        "column_names = [\n",
        "    'filteredDemographicVO2Max', 'nremhr', 'bmi', 'minutesAsleep', 'min_goal',\n",
        "    'minutes_below_default_zone_1', 'max_goal', 'resting_hr', 'full_sleep_breathing_rate',\n",
        "    'rmssd', 'sleep_efficiency', 'sleep_light_ratio', 'very_active_minutes',\n",
        "    'minutes_in_default_zone_2', 'sleep_wake_ratio', 'nightly_temperature',\n",
        "    'sleep_duration', 'age', 'sleep_points_percentage'\n",
        "]"
      ],
      "metadata": {
        "id": "VEc4XP9TpZ0J"
      },
      "execution_count": null,
      "outputs": []
    },
    {
      "cell_type": "code",
      "source": [
        "import pandas as pd\n",
        "from sklearn.ensemble import GradientBoostingClassifier\n",
        "from sklearn.model_selection import train_test_split\n",
        "from sklearn.metrics import accuracy_score, classification_report\n",
        "\n",
        "# Load the Excel file into a DataFrame\n",
        "\n",
        "\n",
        "file_path1 = '/content/cleaned_data.xlsx'\n",
        "file_path2 = '/content/cleaned_data_only_input.xlsx'\n",
        "\n",
        "data1 = pd.read_excel(file_path1)\n",
        "data2 = pd.read_excel(file_path2)\n",
        "\n",
        "target_column = 'ALERT'\n",
        "# features = ['feature1', 'feature2', 'feature3']\n",
        "\n",
        "X = data2[column_names]\n",
        "y = data1[target_column]\n",
        "\n",
        "\n",
        "# Split the data into training and testing sets\n",
        "X_train, X_test, y_train, y_test = train_test_split(X, y, test_size=0.2, random_state=42)\n",
        "\n",
        "# Create a Gradient Boosting Classifier model\n",
        "model = GradientBoostingClassifier(n_estimators=100, learning_rate=0.1)  # You can adjust parameters like learning rate, n_estimators, etc.\n",
        "\n",
        "# Train the model\n",
        "model.fit(X_train, y_train)\n",
        "\n",
        "# Make predictions\n",
        "y_pred = model.predict(X_test)\n",
        "\n",
        "# Calculate accuracy\n",
        "accuracy = accuracy_score(y_test, y_pred)\n",
        "print(f\"Accuracy: {accuracy:.2f}\")\n",
        "\n",
        "# Print classification report (includes precision, recall, f1-score, support)\n",
        "print(\"Classification Report:\")\n",
        "print(classification_report(y_test, y_pred))\n",
        "\n",
        "# Predict on training data\n",
        "train_predictions = model.predict(X_train)\n",
        "\n",
        "# Calculate accuracy on training data\n",
        "accuracy_train = accuracy_score(y_train, train_predictions)\n",
        "print(f\"Training Accuracy: {accuracy_train}\")\n"
      ],
      "metadata": {
        "colab": {
          "base_uri": "https://localhost:8080/"
        },
        "id": "JPzTgmM-ppmL",
        "outputId": "cdb91ae5-e16e-4049-aca2-29510bef432a"
      },
      "execution_count": null,
      "outputs": [
        {
          "output_type": "stream",
          "name": "stdout",
          "text": [
            "Accuracy: 0.87\n",
            "Classification Report:\n",
            "              precision    recall  f1-score   support\n",
            "\n",
            "           0       0.89      0.98      0.93       364\n",
            "           1       0.55      0.20      0.29        55\n",
            "\n",
            "    accuracy                           0.87       419\n",
            "   macro avg       0.72      0.59      0.61       419\n",
            "weighted avg       0.85      0.87      0.85       419\n",
            "\n",
            "Training Accuracy: 0.9127316198445905\n"
          ]
        }
      ]
    },
    {
      "cell_type": "code",
      "source": [
        "column_names = [\n",
        "    'filteredDemographicVO2Max',\n",
        "    'sleep_points_percentage',\n",
        "    'sleep_wake_ratio',\n",
        "    'stress_score',\n",
        "    'exertion_points_percentage',\n",
        "    'sleep_rem_ratio',\n",
        "    'nremhr',\n",
        "    'rmssd',\n",
        "    'min_goal',\n",
        "    'nightly_temperature',\n",
        "    'sleep_efficiency',\n",
        "    'steps',\n",
        "    'minutesAfterWakeup',\n",
        "    'daily_temperature_variation',\n",
        "    'gender_FEMALE',\n",
        "    'full_sleep_breathing_rate',\n",
        "    'sleep_light_ratio'\n",
        "]"
      ],
      "metadata": {
        "id": "VJDna-WdI86j"
      },
      "execution_count": null,
      "outputs": []
    },
    {
      "cell_type": "code",
      "source": [
        "import pandas as pd\n",
        "from sklearn.ensemble import GradientBoostingClassifier\n",
        "from sklearn.model_selection import train_test_split\n",
        "from sklearn.metrics import accuracy_score, classification_report\n",
        "\n",
        "# Load the Excel file into a DataFrame\n",
        "\n",
        "\n",
        "file_path1 = '/content/cleaned_data.xlsx'\n",
        "file_path2 = '/content/cleaned_data_only_input.xlsx'\n",
        "\n",
        "data1 = pd.read_excel(file_path1)\n",
        "data2 = pd.read_excel(file_path2)\n",
        "\n",
        "target_column = 'HAPPY'\n",
        "# features = ['feature1', 'feature2', 'feature3']\n",
        "\n",
        "X = data2[column_names]\n",
        "y = data1[target_column]\n",
        "\n",
        "\n",
        "# Split the data into training and testing sets\n",
        "X_train, X_test, y_train, y_test = train_test_split(X, y, test_size=0.2, random_state=42)\n",
        "\n",
        "# Create a Gradient Boosting Classifier model\n",
        "model = GradientBoostingClassifier(n_estimators=100, learning_rate=0.1)  # You can adjust parameters like learning rate, n_estimators, etc.\n",
        "\n",
        "# Train the model\n",
        "model.fit(X_train, y_train)\n",
        "\n",
        "# Make predictions\n",
        "y_pred = model.predict(X_test)\n",
        "\n",
        "# Calculate accuracy\n",
        "accuracy = accuracy_score(y_test, y_pred)\n",
        "print(f\"Accuracy: {accuracy:.2f}\")\n",
        "\n",
        "# Print classification report (includes precision, recall, f1-score, support)\n",
        "print(\"Classification Report:\")\n",
        "print(classification_report(y_test, y_pred))\n",
        "\n",
        "# Predict on training data\n",
        "train_predictions = model.predict(X_train)\n",
        "\n",
        "# Calculate accuracy on training data\n",
        "accuracy_train = accuracy_score(y_train, train_predictions)\n",
        "print(f\"Training Accuracy: {accuracy_train}\")\n"
      ],
      "metadata": {
        "colab": {
          "base_uri": "https://localhost:8080/"
        },
        "id": "x2zxt_M-88vw",
        "outputId": "e68bc596-9486-4343-8c9a-f13c4e084969"
      },
      "execution_count": null,
      "outputs": [
        {
          "output_type": "stream",
          "name": "stdout",
          "text": [
            "Accuracy: 0.75\n",
            "Classification Report:\n",
            "              precision    recall  f1-score   support\n",
            "\n",
            "           0       0.78      0.94      0.85       318\n",
            "           1       0.45      0.15      0.22       101\n",
            "\n",
            "    accuracy                           0.75       419\n",
            "   macro avg       0.62      0.55      0.54       419\n",
            "weighted avg       0.70      0.75      0.70       419\n",
            "\n",
            "Training Accuracy: 0.8296473401075911\n"
          ]
        }
      ]
    },
    {
      "cell_type": "code",
      "source": [
        "column_names = [\n",
        "    'filteredDemographicVO2Max', 'nremhr', 'full_sleep_breathing_rate',\n",
        "    'daily_temperature_variation', 'sleep_wake_ratio', 'rmssd', 'max_goal',\n",
        "    'calories', 'sleep_rem_ratio', 'resting_hr', 'min_goal', 'sleep_efficiency',\n",
        "    'minutesAwake', 'sleep_duration', 'minutes_in_default_zone_1', 'distance',\n",
        "    'sleep_deep_ratio', 'sleep_light_ratio', 'stress_score', 'nightly_temperature',\n",
        "    'responsiveness_points_percentage', 'lightly_active_minutes', 'bpm',\n",
        "    'sleep_points_percentage', 'very_active_minutes', 'minutes_below_default_zone_1'\n",
        "]"
      ],
      "metadata": {
        "id": "Y9dE9KNQJx8m"
      },
      "execution_count": null,
      "outputs": []
    },
    {
      "cell_type": "code",
      "source": [
        "import pandas as pd\n",
        "from sklearn.ensemble import GradientBoostingClassifier\n",
        "from sklearn.model_selection import train_test_split\n",
        "from sklearn.metrics import accuracy_score, classification_report\n",
        "\n",
        "# Load the Excel file into a DataFrame\n",
        "\n",
        "\n",
        "file_path1 = '/content/cleaned_data.xlsx'\n",
        "file_path2 = '/content/cleaned_data_only_input.xlsx'\n",
        "\n",
        "data1 = pd.read_excel(file_path1)\n",
        "data2 = pd.read_excel(file_path2)\n",
        "\n",
        "target_column = 'NEUTRAL'\n",
        "# features = ['feature1', 'feature2', 'feature3']\n",
        "\n",
        "X = data2[column_names]\n",
        "y = data1[target_column]\n",
        "\n",
        "\n",
        "# Split the data into training and testing sets\n",
        "X_train, X_test, y_train, y_test = train_test_split(X, y, test_size=0.2, random_state=42)\n",
        "\n",
        "# Create a Gradient Boosting Classifier model\n",
        "model = GradientBoostingClassifier(n_estimators=100, learning_rate=0.1)  # You can adjust parameters like learning rate, n_estimators, etc.\n",
        "\n",
        "# Train the model\n",
        "model.fit(X_train, y_train)\n",
        "\n",
        "# Make predictions\n",
        "y_pred = model.predict(X_test)\n",
        "\n",
        "# Calculate accuracy\n",
        "accuracy = accuracy_score(y_test, y_pred)\n",
        "print(f\"Accuracy: {accuracy:.2f}\")\n",
        "\n",
        "# Print classification report (includes precision, recall, f1-score, support)\n",
        "print(\"Classification Report:\")\n",
        "print(classification_report(y_test, y_pred))\n",
        "\n",
        "# Predict on training data\n",
        "train_predictions = model.predict(X_train)\n",
        "\n",
        "# Calculate accuracy on training data\n",
        "accuracy_train = accuracy_score(y_train, train_predictions)\n",
        "print(f\"Training Accuracy: {accuracy_train}\")\n"
      ],
      "metadata": {
        "colab": {
          "base_uri": "https://localhost:8080/"
        },
        "id": "p0aPHtyl99un",
        "outputId": "9f5a05da-c2e9-40d5-ac7a-0f850acdc692"
      },
      "execution_count": null,
      "outputs": [
        {
          "output_type": "stream",
          "name": "stdout",
          "text": [
            "Accuracy: 0.77\n",
            "Classification Report:\n",
            "              precision    recall  f1-score   support\n",
            "\n",
            "           0       0.79      0.94      0.86       306\n",
            "           1       0.67      0.30      0.41       113\n",
            "\n",
            "    accuracy                           0.77       419\n",
            "   macro avg       0.73      0.62      0.64       419\n",
            "weighted avg       0.75      0.77      0.74       419\n",
            "\n",
            "Training Accuracy: 0.872086072922893\n"
          ]
        }
      ]
    },
    {
      "cell_type": "code",
      "source": [
        "column_names = [\n",
        "    'filteredDemographicVO2Max',\n",
        "    'daily_temperature_variation',\n",
        "    'exertion_points_percentage',\n",
        "    'rmssd',\n",
        "    'bmi',\n",
        "    'lightly_active_minutes',\n",
        "    'nremhr',\n",
        "    'sleep_rem_ratio',\n",
        "    'sleep_deep_ratio',\n",
        "    'sleep_efficiency',\n",
        "    'nightly_temperature',\n",
        "    'gender_FEMALE',\n",
        "    'min_goal',\n",
        "    'sleep_wake_ratio',\n",
        "    'minutesAfterWakeup',\n",
        "    'full_sleep_breathing_rate',\n",
        "    'max_goal',\n",
        "    'sleep_points_percentage',\n",
        "    'minutesAwake',\n",
        "    'responsiveness_points_percentage',\n",
        "    'gender_MALE',\n",
        "    'resting_hr',\n",
        "    'distance',\n",
        "    'sedentary_minutes'\n",
        "]\n"
      ],
      "metadata": {
        "id": "Mo7myMRiKnE3"
      },
      "execution_count": null,
      "outputs": []
    },
    {
      "cell_type": "code",
      "source": [
        "import pandas as pd\n",
        "from sklearn.ensemble import GradientBoostingClassifier\n",
        "from sklearn.model_selection import train_test_split\n",
        "from sklearn.metrics import accuracy_score, classification_report\n",
        "\n",
        "# Load the Excel file into a DataFrame\n",
        "\n",
        "\n",
        "file_path1 = '/content/cleaned_data.xlsx'\n",
        "file_path2 = '/content/cleaned_data_only_input.xlsx'\n",
        "\n",
        "data1 = pd.read_excel(file_path1)\n",
        "data2 = pd.read_excel(file_path2)\n",
        "\n",
        "target_column = 'RESTED/RELAXED'\n",
        "# features = ['feature1', 'feature2', 'feature3']\n",
        "\n",
        "X = data2[column_names]\n",
        "y = data1[target_column]\n",
        "\n",
        "\n",
        "# Split the data into training and testing sets\n",
        "X_train, X_test, y_train, y_test = train_test_split(X, y, test_size=0.2, random_state=42)\n",
        "\n",
        "# Create a Gradient Boosting Classifier model\n",
        "model = GradientBoostingClassifier(n_estimators=100, learning_rate=0.1)  # You can adjust parameters like learning rate, n_estimators, etc.\n",
        "\n",
        "# Train the model\n",
        "model.fit(X_train, y_train)\n",
        "\n",
        "# Make predictions\n",
        "y_pred = model.predict(X_test)\n",
        "\n",
        "# Calculate accuracy\n",
        "accuracy = accuracy_score(y_test, y_pred)\n",
        "print(f\"Accuracy: {accuracy:.2f}\")\n",
        "\n",
        "# Print classification report (includes precision, recall, f1-score, support)\n",
        "print(\"Classification Report:\")\n",
        "print(classification_report(y_test, y_pred))\n",
        "\n",
        "# Predict on training data\n",
        "train_predictions = model.predict(X_train)\n",
        "\n",
        "# Calculate accuracy on training data\n",
        "accuracy_train = accuracy_score(y_train, train_predictions)\n",
        "print(f\"Training Accuracy: {accuracy_train}\")\n"
      ],
      "metadata": {
        "colab": {
          "base_uri": "https://localhost:8080/"
        },
        "id": "ysZybR9fKq8h",
        "outputId": "12ac4517-84e5-4983-8af2-6777b893e7a1"
      },
      "execution_count": null,
      "outputs": [
        {
          "output_type": "stream",
          "name": "stdout",
          "text": [
            "Accuracy: 0.67\n",
            "Classification Report:\n",
            "              precision    recall  f1-score   support\n",
            "\n",
            "           0       0.69      0.79      0.74       250\n",
            "           1       0.61      0.49      0.54       169\n",
            "\n",
            "    accuracy                           0.67       419\n",
            "   macro avg       0.65      0.64      0.64       419\n",
            "weighted avg       0.66      0.67      0.66       419\n",
            "\n",
            "Training Accuracy: 0.8123132098027496\n"
          ]
        }
      ]
    },
    {
      "cell_type": "code",
      "source": [
        "column_names = [\n",
        "    'resting_hr',\n",
        "    'full_sleep_breathing_rate',\n",
        "    'filteredDemographicVO2Max',\n",
        "    'max_goal'\n",
        "]"
      ],
      "metadata": {
        "id": "trSI4UZFLvBD"
      },
      "execution_count": null,
      "outputs": []
    },
    {
      "cell_type": "code",
      "source": [
        "import pandas as pd\n",
        "from sklearn.ensemble import GradientBoostingClassifier\n",
        "from sklearn.model_selection import train_test_split\n",
        "from sklearn.metrics import accuracy_score, classification_report\n",
        "\n",
        "# Load the Excel file into a DataFrame\n",
        "\n",
        "\n",
        "file_path1 = '/content/cleaned_data.xlsx'\n",
        "file_path2 = '/content/cleaned_data_only_input.xlsx'\n",
        "\n",
        "data1 = pd.read_excel(file_path1)\n",
        "data2 = pd.read_excel(file_path2)\n",
        "\n",
        "target_column = 'SAD'\n",
        "# features = ['feature1', 'feature2', 'feature3']\n",
        "\n",
        "X = data2[column_names]\n",
        "y = data1[target_column]\n",
        "\n",
        "\n",
        "# Split the data into training and testing sets\n",
        "X_train, X_test, y_train, y_test = train_test_split(X, y, test_size=0.2, random_state=42)\n",
        "\n",
        "# Create a Gradient Boosting Classifier model\n",
        "model = GradientBoostingClassifier(n_estimators=100, learning_rate=0.1)  # You can adjust parameters like learning rate, n_estimators, etc.\n",
        "\n",
        "# Train the model\n",
        "model.fit(X_train, y_train)\n",
        "\n",
        "# Make predictions\n",
        "y_pred = model.predict(X_test)\n",
        "\n",
        "# Calculate accuracy\n",
        "accuracy = accuracy_score(y_test, y_pred)\n",
        "print(f\"Accuracy: {accuracy:.2f}\")\n",
        "\n",
        "# Print classification report (includes precision, recall, f1-score, support)\n",
        "print(\"Classification Report:\")\n",
        "print(classification_report(y_test, y_pred))\n",
        "\n",
        "# Predict on training data\n",
        "train_predictions = model.predict(X_train)\n",
        "\n",
        "# Calculate accuracy on training data\n",
        "accuracy_train = accuracy_score(y_train, train_predictions)\n",
        "print(f\"Training Accuracy: {accuracy_train}\")\n"
      ],
      "metadata": {
        "colab": {
          "base_uri": "https://localhost:8080/"
        },
        "id": "Jl4I52HQ-DCl",
        "outputId": "57246d96-def7-4284-8657-330cbc139a7a"
      },
      "execution_count": null,
      "outputs": [
        {
          "output_type": "stream",
          "name": "stdout",
          "text": [
            "Accuracy: 0.93\n",
            "Classification Report:\n",
            "              precision    recall  f1-score   support\n",
            "\n",
            "           0       0.94      0.99      0.97       393\n",
            "           1       0.00      0.00      0.00        26\n",
            "\n",
            "    accuracy                           0.93       419\n",
            "   macro avg       0.47      0.50      0.48       419\n",
            "weighted avg       0.88      0.93      0.91       419\n",
            "\n",
            "Training Accuracy: 0.9581589958158996\n"
          ]
        }
      ]
    },
    {
      "cell_type": "code",
      "source": [
        "column_names = [\n",
        "    'sleep_light_ratio',\n",
        "    'min_goal',\n",
        "    'rmssd',\n",
        "    'bmi',\n",
        "    'filteredDemographicVO2Max',\n",
        "    'max_goal',\n",
        "    'nremhr',\n",
        "    'steps',\n",
        "    'gender_FEMALE',\n",
        "    'stress_score'\n",
        "]"
      ],
      "metadata": {
        "id": "zKVo6JPL-LCs"
      },
      "execution_count": 4,
      "outputs": []
    },
    {
      "cell_type": "code",
      "source": [
        "import pandas as pd\n",
        "from sklearn.ensemble import GradientBoostingClassifier\n",
        "from sklearn.model_selection import train_test_split\n",
        "from sklearn.metrics import accuracy_score, classification_report\n",
        "\n",
        "# Load the Excel file into a DataFrame\n",
        "\n",
        "\n",
        "file_path1 = '/content/cleaned_data.xlsx'\n",
        "file_path2 = '/content/cleaned_data_only_input.xlsx'\n",
        "\n",
        "data1 = pd.read_excel(file_path1)\n",
        "data2 = pd.read_excel(file_path2)\n",
        "\n",
        "target_column = 'TENSE/ANXIOUS'\n",
        "# features = ['feature1', 'feature2', 'feature3']\n",
        "\n",
        "X = data2[column_names]\n",
        "y = data1[target_column]\n",
        "\n",
        "\n",
        "# Split the data into training and testing sets\n",
        "X_train, X_test, y_train, y_test = train_test_split(X, y, test_size=0.2, random_state=42)\n",
        "\n",
        "# Create a Gradient Boosting Classifier model\n",
        "model = GradientBoostingClassifier(n_estimators=100, learning_rate=0.1)  # You can adjust parameters like learning rate, n_estimators, etc.\n",
        "\n",
        "# Train the model\n",
        "model.fit(X_train, y_train)\n",
        "\n",
        "# Make predictions\n",
        "y_pred = model.predict(X_test)\n",
        "\n",
        "# Calculate accuracy\n",
        "accuracy = accuracy_score(y_test, y_pred)\n",
        "print(f\"Accuracy: {accuracy:.2f}\")\n",
        "\n",
        "# Print classification report (includes precision, recall, f1-score, support)\n",
        "print(\"Classification Report:\")\n",
        "print(classification_report(y_test, y_pred))\n",
        "\n",
        "# Predict on training data\n",
        "train_predictions = model.predict(X_train)\n",
        "\n",
        "# Calculate accuracy on training data\n",
        "accuracy_train = accuracy_score(y_train, train_predictions)\n",
        "print(f\"Training Accuracy: {accuracy_train}\")\n"
      ],
      "metadata": {
        "colab": {
          "base_uri": "https://localhost:8080/"
        },
        "id": "F8I5FlEsTgD1",
        "outputId": "768056df-9c24-4bf4-a96a-966656eee07d"
      },
      "execution_count": 5,
      "outputs": [
        {
          "output_type": "stream",
          "name": "stdout",
          "text": [
            "Accuracy: 0.78\n",
            "Classification Report:\n",
            "              precision    recall  f1-score   support\n",
            "\n",
            "           0       0.80      0.98      0.88       332\n",
            "           1       0.33      0.05      0.08        87\n",
            "\n",
            "    accuracy                           0.78       419\n",
            "   macro avg       0.56      0.51      0.48       419\n",
            "weighted avg       0.70      0.78      0.71       419\n",
            "\n",
            "Training Accuracy: 0.8344291691572027\n"
          ]
        }
      ]
    },
    {
      "cell_type": "code",
      "source": [
        "column_names = [\n",
        "    'sleep_light_ratio',\n",
        "    'minutesAfterWakeup',\n",
        "    'sleep_rem_ratio',\n",
        "    'lightly_active_minutes',\n",
        "    'sleep_wake_ratio',\n",
        "    'sleep_deep_ratio',\n",
        "    'filteredDemographicVO2Max',\n",
        "    'gender_MALE',\n",
        "    'sleep_points_percentage',\n",
        "    'daily_temperature_variation',\n",
        "    'responsiveness_points_percentage',\n",
        "    'min_goal',\n",
        "    'stress_score',\n",
        "    'minutesToFallAsleep',\n",
        "    'bpm',\n",
        "    'gender_FEMALE',\n",
        "    'resting_hr',\n",
        "    'minutesAwake',\n",
        "    'bmi',\n",
        "    'full_sleep_breathing_rate'\n",
        "]"
      ],
      "metadata": {
        "id": "bzGOgXjvUQbq"
      },
      "execution_count": 12,
      "outputs": []
    },
    {
      "cell_type": "code",
      "source": [],
      "metadata": {
        "id": "wJTtVsELV_8L"
      },
      "execution_count": null,
      "outputs": []
    },
    {
      "cell_type": "code",
      "source": [
        "import pandas as pd\n",
        "from sklearn.ensemble import GradientBoostingClassifier\n",
        "from sklearn.model_selection import train_test_split\n",
        "from sklearn.metrics import accuracy_score, classification_report\n",
        "\n",
        "# Load the Excel file into a DataFrame\n",
        "\n",
        "\n",
        "file_path1 = '/content/cleaned_data.xlsx'\n",
        "file_path2 = '/content/cleaned_data_only_input.xlsx'\n",
        "\n",
        "data1 = pd.read_excel(file_path1)\n",
        "data2 = pd.read_excel(file_path2)\n",
        "\n",
        "target_column = 'TIRED'\n",
        "# features = ['feature1', 'feature2', 'feature3']\n",
        "\n",
        "X = data2[column_names]\n",
        "y = data1[target_column]\n",
        "\n",
        "\n",
        "# Split the data into training and testing sets\n",
        "X_train, X_test, y_train, y_test = train_test_split(X, y, test_size=0.2, random_state=42)\n",
        "\n",
        "# Create a Gradient Boosting Classifier model\n",
        "model = GradientBoostingClassifier(n_estimators=100, learning_rate=0.1)  # You can adjust parameters like learning rate, n_estimators, etc.\n",
        "\n",
        "# Train the model\n",
        "model.fit(X_train, y_train)\n",
        "\n",
        "# Make predictions\n",
        "y_pred = model.predict(X_test)\n",
        "\n",
        "# Calculate accuracy\n",
        "accuracy = accuracy_score(y_test, y_pred)\n",
        "print(f\"Accuracy: {accuracy:.2f}\")\n",
        "\n",
        "# Print classification report (includes precision, recall, f1-score, support)\n",
        "print(\"Classification Report:\")\n",
        "print(classification_report(y_test, y_pred))\n",
        "\n",
        "# Predict on training data\n",
        "train_predictions = model.predict(X_train)\n",
        "\n",
        "# Calculate accuracy on training data\n",
        "accuracy_train = accuracy_score(y_train, train_predictions)\n",
        "print(f\"Training Accuracy: {accuracy_train}\")\n"
      ],
      "metadata": {
        "colab": {
          "base_uri": "https://localhost:8080/"
        },
        "id": "6d7d3cOGVBcc",
        "outputId": "7fc4e012-cbe5-4153-e7e7-6ab4f70f72dd"
      },
      "execution_count": 13,
      "outputs": [
        {
          "output_type": "stream",
          "name": "stdout",
          "text": [
            "Accuracy: 0.67\n",
            "Classification Report:\n",
            "              precision    recall  f1-score   support\n",
            "\n",
            "           0       0.70      0.84      0.76       268\n",
            "           1       0.56      0.36      0.44       151\n",
            "\n",
            "    accuracy                           0.67       419\n",
            "   macro avg       0.63      0.60      0.60       419\n",
            "weighted avg       0.65      0.67      0.64       419\n",
            "\n",
            "Training Accuracy: 0.8015540944411237\n"
          ]
        }
      ]
    },
    {
      "cell_type": "code",
      "source": [
        "column_names = [\n",
        "    'very_active_minutes',\n",
        "    'sleep_wake_ratio',\n",
        "    'sleep_duration',\n",
        "    'sleep_rem_ratio',\n",
        "    'sleep_efficiency',\n",
        "    'distance',\n",
        "    'nremhr',\n",
        "    'minutesAwake'\n",
        "]"
      ],
      "metadata": {
        "id": "tyn0hshKWoRm"
      },
      "execution_count": 24,
      "outputs": []
    },
    {
      "cell_type": "code",
      "source": [
        "import pandas as pd\n",
        "from sklearn.ensemble import GradientBoostingClassifier\n",
        "from sklearn.model_selection import train_test_split\n",
        "from sklearn.metrics import accuracy_score, classification_report\n",
        "\n",
        "# Load the Excel file into a DataFrame\n",
        "\n",
        "\n",
        "file_path1 = '/content/cleaned_data.xlsx'\n",
        "file_path2 = '/content/cleaned_data_only_input.xlsx'\n",
        "\n",
        "data1 = pd.read_excel(file_path1)\n",
        "data2 = pd.read_excel(file_path2)\n",
        "\n",
        "target_column = 'ENTERTAINMENT'\n",
        "# features = ['feature1', 'feature2', 'feature3']\n",
        "\n",
        "X = data2[column_names]\n",
        "y = data1[target_column]\n",
        "\n",
        "\n",
        "# Split the data into training and testing sets\n",
        "X_train, X_test, y_train, y_test = train_test_split(X, y, test_size=0.2, random_state=42)\n",
        "\n",
        "# Create a Gradient Boosting Classifier model\n",
        "model = GradientBoostingClassifier(n_estimators=100, learning_rate=0.1)  # You can adjust parameters like learning rate, n_estimators, etc.\n",
        "\n",
        "# Train the model\n",
        "model.fit(X_train, y_train)\n",
        "\n",
        "# Make predictions\n",
        "y_pred = model.predict(X_test)\n",
        "\n",
        "# Calculate accuracy\n",
        "accuracy = accuracy_score(y_test, y_pred)\n",
        "print(f\"Accuracy: {accuracy:.2f}\")\n",
        "\n",
        "# Print classification report (includes precision, recall, f1-score, support)\n",
        "print(\"Classification Report:\")\n",
        "print(classification_report(y_test, y_pred))\n",
        "\n",
        "# Predict on training data\n",
        "train_predictions = model.predict(X_train)\n",
        "\n",
        "# Calculate accuracy on training data\n",
        "accuracy_train = accuracy_score(y_train, train_predictions)\n",
        "print(f\"Training Accuracy: {accuracy_train}\")\n"
      ],
      "metadata": {
        "colab": {
          "base_uri": "https://localhost:8080/"
        },
        "id": "yY8n6Np9WqoZ",
        "outputId": "36d6c5b6-6eb2-46ed-93b5-04dd58bbab2d"
      },
      "execution_count": 25,
      "outputs": [
        {
          "output_type": "stream",
          "name": "stdout",
          "text": [
            "Accuracy: 0.93\n",
            "Classification Report:\n",
            "              precision    recall  f1-score   support\n",
            "\n",
            "           0       0.94      0.99      0.97       394\n",
            "           1       0.00      0.00      0.00        25\n",
            "\n",
            "    accuracy                           0.93       419\n",
            "   macro avg       0.47      0.50      0.48       419\n",
            "weighted avg       0.88      0.93      0.91       419\n",
            "\n",
            "Training Accuracy: 0.9294680215182307\n"
          ]
        }
      ]
    },
    {
      "cell_type": "markdown",
      "source": [
        "# **Bagging**"
      ],
      "metadata": {
        "id": "lWJ_m-hlqoBS"
      }
    },
    {
      "cell_type": "code",
      "source": [
        "import pandas as pd\n",
        "from sklearn.ensemble import BaggingClassifier\n",
        "from sklearn.tree import DecisionTreeClassifier\n",
        "from sklearn.model_selection import train_test_split\n",
        "from sklearn.metrics import accuracy_score, classification_report\n",
        "\n",
        "# Load the Excel file into a DataFrame\n",
        "file_path1 = '/content/cleaned_data.xlsx'\n",
        "file_path2 = '/content/cleaned_data_only_input.xlsx'\n",
        "\n",
        "data1 = pd.read_excel(file_path1)\n",
        "data2 = pd.read_excel(file_path2)\n",
        "\n",
        "target_column = 'ALERT'\n",
        "# features = ['feature1', 'feature2', 'feature3']\n",
        "\n",
        "X = data2\n",
        "y = data1[target_column]\n",
        "\n",
        "# Split the data into training and testing sets\n",
        "X_train, X_test, y_train, y_test = train_test_split(X, y, test_size=0.2, random_state=42)\n",
        "\n",
        "# Create a base classifier (for example, DecisionTreeClassifier)\n",
        "base_classifier = DecisionTreeClassifier()  # You can adjust parameters here if needed\n",
        "\n",
        "# Create a Bagging Classifier model\n",
        "model = BaggingClassifier(base_estimator=base_classifier, n_estimators=10, random_state=42)\n",
        "# Adjust parameters like n_estimators, base_estimator, etc., based on your needs\n",
        "\n",
        "# Train the model\n",
        "model.fit(X_train, y_train)\n",
        "\n",
        "# Make predictions\n",
        "y_pred = model.predict(X_test)\n",
        "\n",
        "# Calculate accuracy\n",
        "accuracy = accuracy_score(y_test, y_pred)\n",
        "print(f\"Accuracy: {accuracy:.2f}\")\n",
        "\n",
        "# Print classification report (includes precision, recall, f1-score, support)\n",
        "print(\"Classification Report:\")\n",
        "print(classification_report(y_test, y_pred))\n",
        "\n",
        "# Predict on training data\n",
        "train_predictions = model.predict(X_train)\n",
        "\n",
        "# Calculate accuracy on training data\n",
        "accuracy_train = accuracy_score(y_train, train_predictions)\n",
        "print(f\"Training Accuracy: {accuracy_train}\")\n"
      ],
      "metadata": {
        "colab": {
          "base_uri": "https://localhost:8080/"
        },
        "id": "EMvew9GCp-nD",
        "outputId": "b21db039-94c0-43ce-8563-c40a60bad24c"
      },
      "execution_count": null,
      "outputs": [
        {
          "output_type": "stream",
          "name": "stderr",
          "text": [
            "/usr/local/lib/python3.10/dist-packages/sklearn/ensemble/_base.py:166: FutureWarning: `base_estimator` was renamed to `estimator` in version 1.2 and will be removed in 1.4.\n",
            "  warnings.warn(\n"
          ]
        },
        {
          "output_type": "stream",
          "name": "stdout",
          "text": [
            "Accuracy: 0.86\n",
            "Classification Report:\n",
            "              precision    recall  f1-score   support\n",
            "\n",
            "           0       0.89      0.96      0.92       364\n",
            "           1       0.46      0.20      0.28        55\n",
            "\n",
            "    accuracy                           0.86       419\n",
            "   macro avg       0.67      0.58      0.60       419\n",
            "weighted avg       0.83      0.86      0.84       419\n",
            "\n",
            "Training Accuracy: 0.9856545128511656\n"
          ]
        }
      ]
    },
    {
      "cell_type": "code",
      "source": [
        "column_names = [\n",
        "    'filteredDemographicVO2Max', 'nremhr', 'bmi', 'minutesAsleep', 'min_goal',\n",
        "    'minutes_below_default_zone_1', 'max_goal', 'resting_hr', 'full_sleep_breathing_rate',\n",
        "    'rmssd', 'sleep_efficiency', 'sleep_light_ratio', 'very_active_minutes',\n",
        "    'minutes_in_default_zone_2', 'sleep_wake_ratio', 'nightly_temperature',\n",
        "    'sleep_duration', 'age', 'sleep_points_percentage'\n",
        "]"
      ],
      "metadata": {
        "id": "xmcC7Cooqvau"
      },
      "execution_count": null,
      "outputs": []
    },
    {
      "cell_type": "code",
      "source": [
        "import pandas as pd\n",
        "from sklearn.ensemble import BaggingClassifier\n",
        "from sklearn.tree import DecisionTreeClassifier\n",
        "from sklearn.model_selection import train_test_split\n",
        "from sklearn.metrics import accuracy_score, classification_report\n",
        "\n",
        "# Load the Excel file into a DataFrame\n",
        "file_path1 = '/content/cleaned_data.xlsx'\n",
        "file_path2 = '/content/cleaned_data_only_input.xlsx'\n",
        "\n",
        "data1 = pd.read_excel(file_path1)\n",
        "data2 = pd.read_excel(file_path2)\n",
        "\n",
        "target_column = 'ALERT'\n",
        "# features = ['feature1', 'feature2', 'feature3']\n",
        "\n",
        "X = data2[column_names]\n",
        "y = data1[target_column]\n",
        "\n",
        "# Split the data into training and testing sets\n",
        "X_train, X_test, y_train, y_test = train_test_split(X, y, test_size=0.2, random_state=42)\n",
        "\n",
        "# Create a base classifier (for example, DecisionTreeClassifier)\n",
        "base_classifier = DecisionTreeClassifier()  # You can adjust parameters here if needed\n",
        "\n",
        "# Create a Bagging Classifier model\n",
        "model = BaggingClassifier(base_estimator=base_classifier, n_estimators=10, random_state=42)\n",
        "# Adjust parameters like n_estimators, base_estimator, etc., based on your needs\n",
        "\n",
        "# Train the model\n",
        "model.fit(X_train, y_train)\n",
        "\n",
        "# Make predictions\n",
        "y_pred = model.predict(X_test)\n",
        "\n",
        "# Calculate accuracy\n",
        "accuracy = accuracy_score(y_test, y_pred)\n",
        "print(f\"Accuracy: {accuracy:.2f}\")\n",
        "\n",
        "# Print classification report (includes precision, recall, f1-score, support)\n",
        "print(\"Classification Report:\")\n",
        "print(classification_report(y_test, y_pred))\n",
        "\n",
        "# Predict on training data\n",
        "train_predictions = model.predict(X_train)\n",
        "\n",
        "# Calculate accuracy on training data\n",
        "accuracy_train = accuracy_score(y_train, train_predictions)\n",
        "print(f\"Training Accuracy: {accuracy_train}\")\n"
      ],
      "metadata": {
        "colab": {
          "base_uri": "https://localhost:8080/"
        },
        "id": "Yd4PBwOnqwaD",
        "outputId": "a3bcb0c8-9b56-48af-f099-75c001cc80a7"
      },
      "execution_count": null,
      "outputs": [
        {
          "output_type": "stream",
          "name": "stdout",
          "text": [
            "Accuracy: 0.86\n",
            "Classification Report:\n",
            "              precision    recall  f1-score   support\n",
            "\n",
            "           0       0.89      0.96      0.92       364\n",
            "           1       0.44      0.22      0.29        55\n",
            "\n",
            "    accuracy                           0.86       419\n",
            "   macro avg       0.67      0.59      0.61       419\n",
            "weighted avg       0.83      0.86      0.84       419\n",
            "\n",
            "Training Accuracy: 0.9856545128511656\n"
          ]
        },
        {
          "output_type": "stream",
          "name": "stderr",
          "text": [
            "/usr/local/lib/python3.10/dist-packages/sklearn/ensemble/_base.py:166: FutureWarning: `base_estimator` was renamed to `estimator` in version 1.2 and will be removed in 1.4.\n",
            "  warnings.warn(\n"
          ]
        }
      ]
    },
    {
      "cell_type": "code",
      "source": [
        "column_names = [\n",
        "    'filteredDemographicVO2Max',\n",
        "    'sleep_points_percentage',\n",
        "    'sleep_wake_ratio',\n",
        "    'stress_score',\n",
        "    'exertion_points_percentage',\n",
        "    'sleep_rem_ratio',\n",
        "    'nremhr',\n",
        "    'rmssd',\n",
        "    'min_goal',\n",
        "    'nightly_temperature',\n",
        "    'sleep_efficiency',\n",
        "    'steps',\n",
        "    'minutesAfterWakeup',\n",
        "    'daily_temperature_variation',\n",
        "    'gender_FEMALE',\n",
        "    'full_sleep_breathing_rate',\n",
        "    'sleep_light_ratio'\n",
        "]"
      ],
      "metadata": {
        "id": "odaXEQ18JCNT"
      },
      "execution_count": null,
      "outputs": []
    },
    {
      "cell_type": "code",
      "source": [
        "import pandas as pd\n",
        "from sklearn.ensemble import BaggingClassifier\n",
        "from sklearn.tree import DecisionTreeClassifier\n",
        "from sklearn.model_selection import train_test_split\n",
        "from sklearn.metrics import accuracy_score, classification_report\n",
        "\n",
        "# Load the Excel file into a DataFrame\n",
        "file_path1 = '/content/cleaned_data.xlsx'\n",
        "file_path2 = '/content/cleaned_data_only_input.xlsx'\n",
        "\n",
        "data1 = pd.read_excel(file_path1)\n",
        "data2 = pd.read_excel(file_path2)\n",
        "\n",
        "target_column = 'HAPPY'\n",
        "# features = ['feature1', 'feature2', 'feature3']\n",
        "\n",
        "X = data2[column_names]\n",
        "y = data1[target_column]\n",
        "\n",
        "# Split the data into training and testing sets\n",
        "X_train, X_test, y_train, y_test = train_test_split(X, y, test_size=0.2, random_state=42)\n",
        "\n",
        "# Create a base classifier (for example, DecisionTreeClassifier)\n",
        "base_classifier = DecisionTreeClassifier()  # You can adjust parameters here if needed\n",
        "\n",
        "# Create a Bagging Classifier model\n",
        "model = BaggingClassifier(base_estimator=base_classifier, n_estimators=10, random_state=42)\n",
        "# Adjust parameters like n_estimators, base_estimator, etc., based on your needs\n",
        "\n",
        "# Train the model\n",
        "model.fit(X_train, y_train)\n",
        "\n",
        "# Make predictions\n",
        "y_pred = model.predict(X_test)\n",
        "\n",
        "# Calculate accuracy\n",
        "accuracy = accuracy_score(y_test, y_pred)\n",
        "print(f\"Accuracy: {accuracy:.2f}\")\n",
        "\n",
        "# Print classification report (includes precision, recall, f1-score, support)\n",
        "print(\"Classification Report:\")\n",
        "print(classification_report(y_test, y_pred))\n",
        "\n",
        "# Predict on training data\n",
        "train_predictions = model.predict(X_train)\n",
        "\n",
        "# Calculate accuracy on training data\n",
        "accuracy_train = accuracy_score(y_train, train_predictions)\n",
        "print(f\"Training Accuracy: {accuracy_train}\")\n"
      ],
      "metadata": {
        "colab": {
          "base_uri": "https://localhost:8080/"
        },
        "id": "8X6kUa6T-hVy",
        "outputId": "5e6c6b0b-d26a-4fd3-8dac-31d47bcaebf8"
      },
      "execution_count": null,
      "outputs": [
        {
          "output_type": "stream",
          "name": "stderr",
          "text": [
            "/usr/local/lib/python3.10/dist-packages/sklearn/ensemble/_base.py:166: FutureWarning: `base_estimator` was renamed to `estimator` in version 1.2 and will be removed in 1.4.\n",
            "  warnings.warn(\n"
          ]
        },
        {
          "output_type": "stream",
          "name": "stdout",
          "text": [
            "Accuracy: 0.71\n",
            "Classification Report:\n",
            "              precision    recall  f1-score   support\n",
            "\n",
            "           0       0.77      0.88      0.82       318\n",
            "           1       0.31      0.17      0.22       101\n",
            "\n",
            "    accuracy                           0.71       419\n",
            "   macro avg       0.54      0.53      0.52       419\n",
            "weighted avg       0.66      0.71      0.68       419\n",
            "\n",
            "Training Accuracy: 0.9838613269575612\n"
          ]
        }
      ]
    },
    {
      "cell_type": "code",
      "source": [
        "column_names = [\n",
        "    'filteredDemographicVO2Max', 'nremhr', 'full_sleep_breathing_rate',\n",
        "    'daily_temperature_variation', 'sleep_wake_ratio', 'rmssd', 'max_goal',\n",
        "    'calories', 'sleep_rem_ratio', 'resting_hr', 'min_goal', 'sleep_efficiency',\n",
        "    'minutesAwake', 'sleep_duration', 'minutes_in_default_zone_1', 'distance',\n",
        "    'sleep_deep_ratio', 'sleep_light_ratio', 'stress_score', 'nightly_temperature',\n",
        "    'responsiveness_points_percentage', 'lightly_active_minutes', 'bpm',\n",
        "    'sleep_points_percentage', 'very_active_minutes', 'minutes_below_default_zone_1'\n",
        "]"
      ],
      "metadata": {
        "id": "6xdUNwx-J6Ym"
      },
      "execution_count": null,
      "outputs": []
    },
    {
      "cell_type": "code",
      "source": [
        "import pandas as pd\n",
        "from sklearn.ensemble import BaggingClassifier\n",
        "from sklearn.tree import DecisionTreeClassifier\n",
        "from sklearn.model_selection import train_test_split\n",
        "from sklearn.metrics import accuracy_score, classification_report\n",
        "\n",
        "# Load the Excel file into a DataFrame\n",
        "file_path1 = '/content/cleaned_data.xlsx'\n",
        "file_path2 = '/content/cleaned_data_only_input.xlsx'\n",
        "\n",
        "data1 = pd.read_excel(file_path1)\n",
        "data2 = pd.read_excel(file_path2)\n",
        "\n",
        "target_column = 'NEUTRAL'\n",
        "# features = ['feature1', 'feature2', 'feature3']\n",
        "\n",
        "X = data2[column_names]\n",
        "y = data1[target_column]\n",
        "\n",
        "# Split the data into training and testing sets\n",
        "X_train, X_test, y_train, y_test = train_test_split(X, y, test_size=0.2, random_state=42)\n",
        "\n",
        "# Create a base classifier (for example, DecisionTreeClassifier)\n",
        "base_classifier = DecisionTreeClassifier()  # You can adjust parameters here if needed\n",
        "\n",
        "# Create a Bagging Classifier model\n",
        "model = BaggingClassifier(base_estimator=base_classifier, n_estimators=10, random_state=42)\n",
        "# Adjust parameters like n_estimators, base_estimator, etc., based on your needs\n",
        "\n",
        "# Train the model\n",
        "model.fit(X_train, y_train)\n",
        "\n",
        "# Make predictions\n",
        "y_pred = model.predict(X_test)\n",
        "\n",
        "# Calculate accuracy\n",
        "accuracy = accuracy_score(y_test, y_pred)\n",
        "print(f\"Accuracy: {accuracy:.2f}\")\n",
        "\n",
        "# Print classification report (includes precision, recall, f1-score, support)\n",
        "print(\"Classification Report:\")\n",
        "print(classification_report(y_test, y_pred))\n",
        "\n",
        "# Predict on training data\n",
        "train_predictions = model.predict(X_train)\n",
        "\n",
        "# Calculate accuracy on training data\n",
        "accuracy_train = accuracy_score(y_train, train_predictions)\n",
        "print(f\"Training Accuracy: {accuracy_train}\")\n"
      ],
      "metadata": {
        "colab": {
          "base_uri": "https://localhost:8080/"
        },
        "id": "Yc2cirW9-kP6",
        "outputId": "fafa56e0-84e5-4461-aa2e-053aaf2a8382"
      },
      "execution_count": null,
      "outputs": [
        {
          "output_type": "stream",
          "name": "stderr",
          "text": [
            "/usr/local/lib/python3.10/dist-packages/sklearn/ensemble/_base.py:166: FutureWarning: `base_estimator` was renamed to `estimator` in version 1.2 and will be removed in 1.4.\n",
            "  warnings.warn(\n"
          ]
        },
        {
          "output_type": "stream",
          "name": "stdout",
          "text": [
            "Accuracy: 0.77\n",
            "Classification Report:\n",
            "              precision    recall  f1-score   support\n",
            "\n",
            "           0       0.79      0.94      0.86       306\n",
            "           1       0.67      0.30      0.41       113\n",
            "\n",
            "    accuracy                           0.77       419\n",
            "   macro avg       0.73      0.62      0.64       419\n",
            "weighted avg       0.75      0.77      0.74       419\n",
            "\n",
            "Training Accuracy: 0.9802749551703527\n"
          ]
        }
      ]
    },
    {
      "cell_type": "code",
      "source": [
        "column_names = [\n",
        "    'filteredDemographicVO2Max',\n",
        "    'daily_temperature_variation',\n",
        "    'exertion_points_percentage',\n",
        "    'rmssd',\n",
        "    'bmi',\n",
        "    'lightly_active_minutes',\n",
        "    'nremhr',\n",
        "    'sleep_rem_ratio',\n",
        "    'sleep_deep_ratio',\n",
        "    'sleep_efficiency',\n",
        "    'nightly_temperature',\n",
        "    'gender_FEMALE',\n",
        "    'min_goal',\n",
        "    'sleep_wake_ratio',\n",
        "    'minutesAfterWakeup',\n",
        "    'full_sleep_breathing_rate',\n",
        "    'max_goal',\n",
        "    'sleep_points_percentage',\n",
        "    'minutesAwake',\n",
        "    'responsiveness_points_percentage',\n",
        "    'gender_MALE',\n",
        "    'resting_hr',\n",
        "    'distance',\n",
        "    'sedentary_minutes'\n",
        "]\n"
      ],
      "metadata": {
        "id": "Tb0N1co5LAvG"
      },
      "execution_count": null,
      "outputs": []
    },
    {
      "cell_type": "code",
      "source": [
        "import pandas as pd\n",
        "from sklearn.ensemble import BaggingClassifier\n",
        "from sklearn.tree import DecisionTreeClassifier\n",
        "from sklearn.model_selection import train_test_split\n",
        "from sklearn.metrics import accuracy_score, classification_report\n",
        "\n",
        "# Load the Excel file into a DataFrame\n",
        "file_path1 = '/content/cleaned_data.xlsx'\n",
        "file_path2 = '/content/cleaned_data_only_input.xlsx'\n",
        "\n",
        "data1 = pd.read_excel(file_path1)\n",
        "data2 = pd.read_excel(file_path2)\n",
        "\n",
        "target_column = 'RESTED/RELAXED'\n",
        "# features = ['feature1', 'feature2', 'feature3']\n",
        "\n",
        "X = data2[column_names]\n",
        "y = data1[target_column]\n",
        "\n",
        "# Split the data into training and testing sets\n",
        "X_train, X_test, y_train, y_test = train_test_split(X, y, test_size=0.2, random_state=42)\n",
        "\n",
        "# Create a base classifier (for example, DecisionTreeClassifier)\n",
        "base_classifier = DecisionTreeClassifier()  # You can adjust parameters here if needed\n",
        "\n",
        "# Create a Bagging Classifier model\n",
        "model = BaggingClassifier(base_estimator=base_classifier, n_estimators=10, random_state=42)\n",
        "# Adjust parameters like n_estimators, base_estimator, etc., based on your needs\n",
        "\n",
        "# Train the model\n",
        "model.fit(X_train, y_train)\n",
        "\n",
        "# Make predictions\n",
        "y_pred = model.predict(X_test)\n",
        "\n",
        "# Calculate accuracy\n",
        "accuracy = accuracy_score(y_test, y_pred)\n",
        "print(f\"Accuracy: {accuracy:.2f}\")\n",
        "\n",
        "# Print classification report (includes precision, recall, f1-score, support)\n",
        "print(\"Classification Report:\")\n",
        "print(classification_report(y_test, y_pred))\n",
        "\n",
        "# Predict on training data\n",
        "train_predictions = model.predict(X_train)\n",
        "\n",
        "# Calculate accuracy on training data\n",
        "accuracy_train = accuracy_score(y_train, train_predictions)\n",
        "print(f\"Training Accuracy: {accuracy_train}\")\n"
      ],
      "metadata": {
        "colab": {
          "base_uri": "https://localhost:8080/"
        },
        "id": "BtSYrZK6-n3W",
        "outputId": "117af384-36c2-422a-ecd9-774c33b6104b"
      },
      "execution_count": null,
      "outputs": [
        {
          "output_type": "stream",
          "name": "stderr",
          "text": [
            "/usr/local/lib/python3.10/dist-packages/sklearn/ensemble/_base.py:166: FutureWarning: `base_estimator` was renamed to `estimator` in version 1.2 and will be removed in 1.4.\n",
            "  warnings.warn(\n"
          ]
        },
        {
          "output_type": "stream",
          "name": "stdout",
          "text": [
            "Accuracy: 0.69\n",
            "Classification Report:\n",
            "              precision    recall  f1-score   support\n",
            "\n",
            "           0       0.70      0.82      0.76       250\n",
            "           1       0.65      0.49      0.56       169\n",
            "\n",
            "    accuracy                           0.69       419\n",
            "   macro avg       0.68      0.65      0.66       419\n",
            "weighted avg       0.68      0.69      0.68       419\n",
            "\n",
            "Training Accuracy: 0.9826658696951583\n"
          ]
        }
      ]
    },
    {
      "cell_type": "code",
      "source": [
        "column_names = [\n",
        "    'resting_hr',\n",
        "    'full_sleep_breathing_rate',\n",
        "    'filteredDemographicVO2Max',\n",
        "    'max_goal'\n",
        "]"
      ],
      "metadata": {
        "id": "ATV1WDK3Ln7F"
      },
      "execution_count": null,
      "outputs": []
    },
    {
      "cell_type": "code",
      "source": [
        "column_names = [\n",
        "    'resting_hr',\n",
        "    'full_sleep_breathing_rate',\n",
        "    'filteredDemographicVO2Max',\n",
        "    'max_goal'\n",
        "]"
      ],
      "metadata": {
        "id": "CuzMDMzKLqpw"
      },
      "execution_count": null,
      "outputs": []
    },
    {
      "cell_type": "code",
      "source": [
        "import pandas as pd\n",
        "from sklearn.ensemble import BaggingClassifier\n",
        "from sklearn.tree import DecisionTreeClassifier\n",
        "from sklearn.model_selection import train_test_split\n",
        "from sklearn.metrics import accuracy_score, classification_report\n",
        "\n",
        "# Load the Excel file into a DataFrame\n",
        "file_path1 = '/content/cleaned_data.xlsx'\n",
        "file_path2 = '/content/cleaned_data_only_input.xlsx'\n",
        "\n",
        "data1 = pd.read_excel(file_path1)\n",
        "data2 = pd.read_excel(file_path2)\n",
        "\n",
        "target_column = 'SAD'\n",
        "# features = ['feature1', 'feature2', 'feature3']\n",
        "\n",
        "X = data2[column_names]\n",
        "y = data1[target_column]\n",
        "\n",
        "# Split the data into training and testing sets\n",
        "X_train, X_test, y_train, y_test = train_test_split(X, y, test_size=0.2, random_state=42)\n",
        "\n",
        "# Create a base classifier (for example, DecisionTreeClassifier)\n",
        "base_classifier = DecisionTreeClassifier()  # You can adjust parameters here if needed\n",
        "\n",
        "# Create a Bagging Classifier model\n",
        "model = BaggingClassifier(base_estimator=base_classifier, n_estimators=10, random_state=42)\n",
        "# Adjust parameters like n_estimators, base_estimator, etc., based on your needs\n",
        "\n",
        "# Train the model\n",
        "model.fit(X_train, y_train)\n",
        "\n",
        "# Make predictions\n",
        "y_pred = model.predict(X_test)\n",
        "\n",
        "# Calculate accuracy\n",
        "accuracy = accuracy_score(y_test, y_pred)\n",
        "print(f\"Accuracy: {accuracy:.2f}\")\n",
        "\n",
        "# Print classification report (includes precision, recall, f1-score, support)\n",
        "print(\"Classification Report:\")\n",
        "print(classification_report(y_test, y_pred))\n",
        "\n",
        "# Predict on training data\n",
        "train_predictions = model.predict(X_train)\n",
        "\n",
        "# Calculate accuracy on training data\n",
        "accuracy_train = accuracy_score(y_train, train_predictions)\n",
        "print(f\"Training Accuracy: {accuracy_train}\")\n"
      ],
      "metadata": {
        "colab": {
          "base_uri": "https://localhost:8080/"
        },
        "id": "wd9eX1CZ_F5P",
        "outputId": "a98a9019-3e12-4a33-dd51-a90a5e9c63a6"
      },
      "execution_count": null,
      "outputs": [
        {
          "output_type": "stream",
          "name": "stdout",
          "text": [
            "Accuracy: 0.92\n",
            "Classification Report:\n",
            "              precision    recall  f1-score   support\n",
            "\n",
            "           0       0.94      0.98      0.96       393\n",
            "           1       0.00      0.00      0.00        26\n",
            "\n",
            "    accuracy                           0.92       419\n",
            "   macro avg       0.47      0.49      0.48       419\n",
            "weighted avg       0.88      0.92      0.90       419\n",
            "\n",
            "Training Accuracy: 0.9916317991631799\n"
          ]
        },
        {
          "output_type": "stream",
          "name": "stderr",
          "text": [
            "/usr/local/lib/python3.10/dist-packages/sklearn/ensemble/_base.py:166: FutureWarning: `base_estimator` was renamed to `estimator` in version 1.2 and will be removed in 1.4.\n",
            "  warnings.warn(\n"
          ]
        }
      ]
    },
    {
      "cell_type": "code",
      "source": [
        "column_names = [\n",
        "    'sleep_light_ratio',\n",
        "    'min_goal',\n",
        "    'rmssd',\n",
        "    'bmi',\n",
        "    'filteredDemographicVO2Max',\n",
        "    'max_goal',\n",
        "    'nremhr',\n",
        "    'steps',\n",
        "    'gender_FEMALE',\n",
        "    'stress_score'\n",
        "]"
      ],
      "metadata": {
        "id": "4lmoHkFZTRQi"
      },
      "execution_count": 6,
      "outputs": []
    },
    {
      "cell_type": "code",
      "source": [
        "import pandas as pd\n",
        "from sklearn.ensemble import BaggingClassifier\n",
        "from sklearn.tree import DecisionTreeClassifier\n",
        "from sklearn.model_selection import train_test_split\n",
        "from sklearn.metrics import accuracy_score, classification_report\n",
        "\n",
        "# Load the Excel file into a DataFrame\n",
        "file_path1 = '/content/cleaned_data.xlsx'\n",
        "file_path2 = '/content/cleaned_data_only_input.xlsx'\n",
        "\n",
        "data1 = pd.read_excel(file_path1)\n",
        "data2 = pd.read_excel(file_path2)\n",
        "\n",
        "target_column = 'TENSE/ANXIOUS'\n",
        "\n",
        "# features = ['feature1', 'feature2', 'feature3']\n",
        "\n",
        "X = data2[column_names]\n",
        "y = data1[target_column]\n",
        "\n",
        "# Split the data into training and testing sets\n",
        "X_train, X_test, y_train, y_test = train_test_split(X, y, test_size=0.2, random_state=42)\n",
        "\n",
        "# Create a base classifier (for example, DecisionTreeClassifier)\n",
        "base_classifier = DecisionTreeClassifier()  # You can adjust parameters here if needed\n",
        "\n",
        "# Create a Bagging Classifier model\n",
        "model = BaggingClassifier(base_estimator=base_classifier, n_estimators=10, random_state=42)\n",
        "# Adjust parameters like n_estimators, base_estimator, etc., based on your needs\n",
        "\n",
        "# Train the model\n",
        "model.fit(X_train, y_train)\n",
        "\n",
        "# Make predictions\n",
        "y_pred = model.predict(X_test)\n",
        "\n",
        "# Calculate accuracy\n",
        "accuracy = accuracy_score(y_test, y_pred)\n",
        "print(f\"Accuracy: {accuracy:.2f}\")\n",
        "\n",
        "# Print classification report (includes precision, recall, f1-score, support)\n",
        "print(\"Classification Report:\")\n",
        "print(classification_report(y_test, y_pred))\n",
        "\n",
        "# Predict on training data\n",
        "train_predictions = model.predict(X_train)\n",
        "\n",
        "# Calculate accuracy on training data\n",
        "accuracy_train = accuracy_score(y_train, train_predictions)\n",
        "print(f\"Training Accuracy: {accuracy_train}\")\n"
      ],
      "metadata": {
        "colab": {
          "base_uri": "https://localhost:8080/"
        },
        "id": "PMKKNErLTxj4",
        "outputId": "c100d7bd-7ff8-4067-8dbe-6e0362dc2d2b"
      },
      "execution_count": 9,
      "outputs": [
        {
          "output_type": "stream",
          "name": "stdout",
          "text": [
            "Accuracy: 0.78\n",
            "Classification Report:\n",
            "              precision    recall  f1-score   support\n",
            "\n",
            "           0       0.81      0.94      0.87       332\n",
            "           1       0.41      0.15      0.22        87\n",
            "\n",
            "    accuracy                           0.78       419\n",
            "   macro avg       0.61      0.55      0.54       419\n",
            "weighted avg       0.73      0.78      0.74       419\n",
            "\n",
            "Training Accuracy: 0.9784817692767483\n"
          ]
        },
        {
          "output_type": "stream",
          "name": "stderr",
          "text": [
            "/usr/local/lib/python3.10/dist-packages/sklearn/ensemble/_base.py:166: FutureWarning: `base_estimator` was renamed to `estimator` in version 1.2 and will be removed in 1.4.\n",
            "  warnings.warn(\n"
          ]
        }
      ]
    },
    {
      "cell_type": "code",
      "source": [
        "column_names = [\n",
        "    'sleep_light_ratio',\n",
        "    'minutesAfterWakeup',\n",
        "    'sleep_rem_ratio',\n",
        "    'lightly_active_minutes',\n",
        "    'sleep_wake_ratio',\n",
        "    'sleep_deep_ratio',\n",
        "    'filteredDemographicVO2Max',\n",
        "    'gender_MALE',\n",
        "    'sleep_points_percentage',\n",
        "    'daily_temperature_variation',\n",
        "    'responsiveness_points_percentage',\n",
        "    'min_goal',\n",
        "    'stress_score',\n",
        "    'minutesToFallAsleep',\n",
        "    'bpm',\n",
        "    'gender_FEMALE',\n",
        "    'resting_hr',\n",
        "    'minutesAwake',\n",
        "    'bmi',\n",
        "    'full_sleep_breathing_rate'\n",
        "]"
      ],
      "metadata": {
        "id": "kRwdJJBfVUgO"
      },
      "execution_count": 18,
      "outputs": []
    },
    {
      "cell_type": "code",
      "source": [
        "import pandas as pd\n",
        "from sklearn.ensemble import BaggingClassifier\n",
        "from sklearn.tree import DecisionTreeClassifier\n",
        "from sklearn.model_selection import train_test_split\n",
        "from sklearn.metrics import accuracy_score, classification_report\n",
        "\n",
        "# Load the Excel file into a DataFrame\n",
        "file_path1 = '/content/cleaned_data.xlsx'\n",
        "file_path2 = '/content/cleaned_data_only_input.xlsx'\n",
        "\n",
        "data1 = pd.read_excel(file_path1)\n",
        "data2 = pd.read_excel(file_path2)\n",
        "\n",
        "target_column = 'TIRED'\n",
        "\n",
        "# features = ['feature1', 'feature2', 'feature3']\n",
        "\n",
        "X = data2[column_names]\n",
        "y = data1[target_column]\n",
        "\n",
        "# Split the data into training and testing sets\n",
        "X_train, X_test, y_train, y_test = train_test_split(X, y, test_size=0.2, random_state=42)\n",
        "\n",
        "# Create a base classifier (for example, DecisionTreeClassifier)\n",
        "base_classifier = DecisionTreeClassifier()  # You can adjust parameters here if needed\n",
        "\n",
        "# Create a Bagging Classifier model\n",
        "model = BaggingClassifier(base_estimator=base_classifier, n_estimators=10, random_state=42)\n",
        "# Adjust parameters like n_estimators, base_estimator, etc., based on your needs\n",
        "\n",
        "# Train the model\n",
        "model.fit(X_train, y_train)\n",
        "\n",
        "# Make predictions\n",
        "y_pred = model.predict(X_test)\n",
        "\n",
        "# Calculate accuracy\n",
        "accuracy = accuracy_score(y_test, y_pred)\n",
        "print(f\"Accuracy: {accuracy:.2f}\")\n",
        "\n",
        "# Print classification report (includes precision, recall, f1-score, support)\n",
        "print(\"Classification Report:\")\n",
        "print(classification_report(y_test, y_pred))\n",
        "\n",
        "# Predict on training data\n",
        "train_predictions = model.predict(X_train)\n",
        "\n",
        "# Calculate accuracy on training data\n",
        "accuracy_train = accuracy_score(y_train, train_predictions)\n",
        "print(f\"Training Accuracy: {accuracy_train}\")\n"
      ],
      "metadata": {
        "colab": {
          "base_uri": "https://localhost:8080/"
        },
        "id": "ch1n-wROVVaY",
        "outputId": "0d21fc84-bd03-4131-d79a-cba143a89f86"
      },
      "execution_count": 19,
      "outputs": [
        {
          "output_type": "stream",
          "name": "stderr",
          "text": [
            "/usr/local/lib/python3.10/dist-packages/sklearn/ensemble/_base.py:166: FutureWarning: `base_estimator` was renamed to `estimator` in version 1.2 and will be removed in 1.4.\n",
            "  warnings.warn(\n"
          ]
        },
        {
          "output_type": "stream",
          "name": "stdout",
          "text": [
            "Accuracy: 0.63\n",
            "Classification Report:\n",
            "              precision    recall  f1-score   support\n",
            "\n",
            "           0       0.69      0.79      0.73       268\n",
            "           1       0.49      0.36      0.41       151\n",
            "\n",
            "    accuracy                           0.63       419\n",
            "   macro avg       0.59      0.57      0.57       419\n",
            "weighted avg       0.61      0.63      0.62       419\n",
            "\n",
            "Training Accuracy: 0.9826658696951583\n"
          ]
        }
      ]
    },
    {
      "cell_type": "code",
      "source": [
        "column_names = [\n",
        "    'very_active_minutes',\n",
        "    'sleep_wake_ratio',\n",
        "    'sleep_duration',\n",
        "    'sleep_rem_ratio',\n",
        "    'sleep_efficiency',\n",
        "    'distance',\n",
        "    'nremhr',\n",
        "    'minutesAwake'\n",
        "]"
      ],
      "metadata": {
        "id": "QWu3AFLMW2Jr"
      },
      "execution_count": 26,
      "outputs": []
    },
    {
      "cell_type": "code",
      "source": [
        "import pandas as pd\n",
        "from sklearn.ensemble import BaggingClassifier\n",
        "from sklearn.tree import DecisionTreeClassifier\n",
        "from sklearn.model_selection import train_test_split\n",
        "from sklearn.metrics import accuracy_score, classification_report\n",
        "\n",
        "# Load the Excel file into a DataFrame\n",
        "file_path1 = '/content/cleaned_data.xlsx'\n",
        "file_path2 = '/content/cleaned_data_only_input.xlsx'\n",
        "\n",
        "data1 = pd.read_excel(file_path1)\n",
        "data2 = pd.read_excel(file_path2)\n",
        "\n",
        "target_column = 'ENTERTAINMENT'\n",
        "\n",
        "# features = ['feature1', 'feature2', 'feature3']\n",
        "\n",
        "X = data2[column_names]\n",
        "y = data1[target_column]\n",
        "\n",
        "# Split the data into training and testing sets\n",
        "X_train, X_test, y_train, y_test = train_test_split(X, y, test_size=0.2, random_state=42)\n",
        "\n",
        "# Create a base classifier (for example, DecisionTreeClassifier)\n",
        "base_classifier = DecisionTreeClassifier()  # You can adjust parameters here if needed\n",
        "\n",
        "# Create a Bagging Classifier model\n",
        "model = BaggingClassifier(base_estimator=base_classifier, n_estimators=10, random_state=42)\n",
        "# Adjust parameters like n_estimators, base_estimator, etc., based on your needs\n",
        "\n",
        "# Train the model\n",
        "model.fit(X_train, y_train)\n",
        "\n",
        "# Make predictions\n",
        "y_pred = model.predict(X_test)\n",
        "\n",
        "# Calculate accuracy\n",
        "accuracy = accuracy_score(y_test, y_pred)\n",
        "print(f\"Accuracy: {accuracy:.2f}\")\n",
        "\n",
        "# Print classification report (includes precision, recall, f1-score, support)\n",
        "print(\"Classification Report:\")\n",
        "print(classification_report(y_test, y_pred))\n",
        "\n",
        "# Predict on training data\n",
        "train_predictions = model.predict(X_train)\n",
        "\n",
        "# Calculate accuracy on training data\n",
        "accuracy_train = accuracy_score(y_train, train_predictions)\n",
        "print(f\"Training Accuracy: {accuracy_train}\")\n"
      ],
      "metadata": {
        "colab": {
          "base_uri": "https://localhost:8080/"
        },
        "id": "7rAZzOhPW5PD",
        "outputId": "2f1ac3b7-ca6d-4fe2-e981-dd6ee3b8931a"
      },
      "execution_count": 27,
      "outputs": [
        {
          "output_type": "stream",
          "name": "stdout",
          "text": [
            "Accuracy: 0.93\n",
            "Classification Report:\n",
            "              precision    recall  f1-score   support\n",
            "\n",
            "           0       0.94      0.99      0.96       394\n",
            "           1       0.17      0.04      0.06        25\n",
            "\n",
            "    accuracy                           0.93       419\n",
            "   macro avg       0.55      0.51      0.51       419\n",
            "weighted avg       0.90      0.93      0.91       419\n",
            "\n",
            "Training Accuracy: 0.9784817692767483\n"
          ]
        },
        {
          "output_type": "stream",
          "name": "stderr",
          "text": [
            "/usr/local/lib/python3.10/dist-packages/sklearn/ensemble/_base.py:166: FutureWarning: `base_estimator` was renamed to `estimator` in version 1.2 and will be removed in 1.4.\n",
            "  warnings.warn(\n"
          ]
        }
      ]
    },
    {
      "cell_type": "markdown",
      "source": [
        "# **XGBOOST**"
      ],
      "metadata": {
        "id": "X1BNvhCACJEg"
      }
    },
    {
      "cell_type": "code",
      "source": [
        "import pandas as pd\n",
        "from xgboost import XGBClassifier\n",
        "from sklearn.model_selection import train_test_split\n",
        "from sklearn.metrics import accuracy_score, classification_report\n",
        "\n",
        "# Load the Excel file into a DataFrame\n",
        "file_path1 = '/content/cleaned_data.xlsx'\n",
        "file_path2 = '/content/cleaned_data_only_input.xlsx'\n",
        "\n",
        "data1 = pd.read_excel(file_path1)\n",
        "data2 = pd.read_excel(file_path2)\n",
        "\n",
        "target_column = 'ALERT'\n",
        "# features = ['feature1', 'feature2', 'feature3']\n",
        "\n",
        "X = data2  # Assuming data2 contains all the features needed\n",
        "y = data1[target_column]\n",
        "\n",
        "# Split the data into training and testing sets\n",
        "X_train, X_test, y_train, y_test = train_test_split(X, y, test_size=0.2, random_state=42)\n",
        "\n",
        "# Create an XGBoost Classifier model\n",
        "model = XGBClassifier(n_estimators=100, learning_rate=0.1)  # You can adjust parameters like learning rate, n_estimators, etc.\n",
        "\n",
        "# Train the model\n",
        "model.fit(X_train, y_train)\n",
        "\n",
        "# Make predictions\n",
        "y_pred = model.predict(X_test)\n",
        "\n",
        "# Calculate accuracy on testing data\n",
        "accuracy = accuracy_score(y_test, y_pred)\n",
        "print(f\"Testing Accuracy: {accuracy:.2f}\")\n",
        "\n",
        "# Print classification report (includes precision, recall, f1-score, support)\n",
        "print(\"Classification Report:\")\n",
        "print(classification_report(y_test, y_pred))\n",
        "\n",
        "# Predict on training data\n",
        "train_predictions = model.predict(X_train)\n",
        "\n",
        "# Calculate accuracy on training data\n",
        "accuracy_train = accuracy_score(y_train, train_predictions)\n",
        "print(f\"Training Accuracy: {accuracy_train}\")\n"
      ],
      "metadata": {
        "colab": {
          "base_uri": "https://localhost:8080/"
        },
        "id": "AKHTiyqjCIGc",
        "outputId": "deea63fa-e06c-466d-969f-9191513e1418"
      },
      "execution_count": null,
      "outputs": [
        {
          "output_type": "stream",
          "name": "stdout",
          "text": [
            "Testing Accuracy: 0.87\n",
            "Classification Report:\n",
            "              precision    recall  f1-score   support\n",
            "\n",
            "           0       0.90      0.95      0.93       364\n",
            "           1       0.48      0.29      0.36        55\n",
            "\n",
            "    accuracy                           0.87       419\n",
            "   macro avg       0.69      0.62      0.64       419\n",
            "weighted avg       0.84      0.87      0.85       419\n",
            "\n",
            "Training Accuracy: 0.9952181709503886\n"
          ]
        }
      ]
    },
    {
      "cell_type": "code",
      "source": [
        "column_names = [\n",
        "    'filteredDemographicVO2Max', 'nremhr', 'bmi', 'minutesAsleep', 'min_goal',\n",
        "    'minutes_below_default_zone_1', 'max_goal', 'resting_hr', 'full_sleep_breathing_rate',\n",
        "    'rmssd', 'sleep_efficiency', 'sleep_light_ratio', 'very_active_minutes',\n",
        "    'minutes_in_default_zone_2', 'sleep_wake_ratio', 'nightly_temperature',\n",
        "    'sleep_duration', 'age', 'sleep_points_percentage'\n",
        "]"
      ],
      "metadata": {
        "id": "v_lialRhCS2n"
      },
      "execution_count": null,
      "outputs": []
    },
    {
      "cell_type": "code",
      "source": [
        "import pandas as pd\n",
        "from xgboost import XGBClassifier\n",
        "from sklearn.model_selection import train_test_split\n",
        "from sklearn.metrics import accuracy_score, classification_report\n",
        "\n",
        "# Load the Excel file into a DataFrame\n",
        "file_path1 = '/content/cleaned_data.xlsx'\n",
        "file_path2 = '/content/cleaned_data_only_input.xlsx'\n",
        "\n",
        "data1 = pd.read_excel(file_path1)\n",
        "data2 = pd.read_excel(file_path2)\n",
        "\n",
        "target_column = 'ALERT'\n",
        "# features = ['feature1', 'feature2', 'feature3']\n",
        "\n",
        "X = data2[column_names]\n",
        "y = data1[target_column]\n",
        "\n",
        "# Split the data into training and testing sets\n",
        "X_train, X_test, y_train, y_test = train_test_split(X, y, test_size=0.2, random_state=42)\n",
        "\n",
        "# Create an XGBoost Classifier model\n",
        "model = XGBClassifier(n_estimators=100, learning_rate=0.1)  # You can adjust parameters like learning rate, n_estimators, etc.\n",
        "\n",
        "# Train the model\n",
        "model.fit(X_train, y_train)\n",
        "\n",
        "# Make predictions\n",
        "y_pred = model.predict(X_test)\n",
        "\n",
        "# Calculate accuracy on testing data\n",
        "accuracy = accuracy_score(y_test, y_pred)\n",
        "print(f\"Testing Accuracy: {accuracy:.2f}\")\n",
        "\n",
        "# Print classification report (includes precision, recall, f1-score, support)\n",
        "print(\"Classification Report:\")\n",
        "print(classification_report(y_test, y_pred))\n",
        "\n",
        "# Predict on training data\n",
        "train_predictions = model.predict(X_train)\n",
        "\n",
        "# Calculate accuracy on training data\n",
        "accuracy_train = accuracy_score(y_train, train_predictions)\n",
        "print(f\"Training Accuracy: {accuracy_train}\")\n"
      ],
      "metadata": {
        "colab": {
          "base_uri": "https://localhost:8080/"
        },
        "id": "y1H7c1rjCO-W",
        "outputId": "ee71fe28-19ce-4a16-d61e-64fde5bf735e"
      },
      "execution_count": null,
      "outputs": [
        {
          "output_type": "stream",
          "name": "stdout",
          "text": [
            "Testing Accuracy: 0.87\n",
            "Classification Report:\n",
            "              precision    recall  f1-score   support\n",
            "\n",
            "           0       0.90      0.96      0.93       364\n",
            "           1       0.52      0.27      0.36        55\n",
            "\n",
            "    accuracy                           0.87       419\n",
            "   macro avg       0.71      0.62      0.64       419\n",
            "weighted avg       0.85      0.87      0.85       419\n",
            "\n",
            "Training Accuracy: 0.986252241482367\n"
          ]
        }
      ]
    },
    {
      "cell_type": "code",
      "source": [
        "column_names = [\n",
        "    'filteredDemographicVO2Max',\n",
        "    'sleep_points_percentage',\n",
        "    'sleep_wake_ratio',\n",
        "    'stress_score',\n",
        "    'exertion_points_percentage',\n",
        "    'sleep_rem_ratio',\n",
        "    'nremhr',\n",
        "    'rmssd',\n",
        "    'min_goal',\n",
        "    'nightly_temperature',\n",
        "    'sleep_efficiency',\n",
        "    'steps',\n",
        "    'minutesAfterWakeup',\n",
        "    'daily_temperature_variation',\n",
        "    'gender_FEMALE',\n",
        "    'full_sleep_breathing_rate',\n",
        "    'sleep_light_ratio'\n",
        "]"
      ],
      "metadata": {
        "id": "0nGHZliHJHjK"
      },
      "execution_count": null,
      "outputs": []
    },
    {
      "cell_type": "code",
      "source": [
        "import pandas as pd\n",
        "from xgboost import XGBClassifier\n",
        "from sklearn.model_selection import train_test_split\n",
        "from sklearn.metrics import accuracy_score, classification_report\n",
        "\n",
        "# Load the Excel file into a DataFrame\n",
        "file_path1 = '/content/cleaned_data.xlsx'\n",
        "file_path2 = '/content/cleaned_data_only_input.xlsx'\n",
        "\n",
        "data1 = pd.read_excel(file_path1)\n",
        "data2 = pd.read_excel(file_path2)\n",
        "\n",
        "target_column = 'HAPPY'\n",
        "# features = ['feature1', 'feature2', 'feature3']\n",
        "\n",
        "X = data2[column_names]\n",
        "y = data1[target_column]\n",
        "\n",
        "# Split the data into training and testing sets\n",
        "X_train, X_test, y_train, y_test = train_test_split(X, y, test_size=0.2, random_state=42)\n",
        "\n",
        "# Create an XGBoost Classifier model\n",
        "model = XGBClassifier(n_estimators=100, learning_rate=0.1)  # You can adjust parameters like learning rate, n_estimators, etc.\n",
        "\n",
        "# Train the model\n",
        "model.fit(X_train, y_train)\n",
        "\n",
        "# Make predictions\n",
        "y_pred = model.predict(X_test)\n",
        "\n",
        "# Calculate accuracy on testing data\n",
        "accuracy = accuracy_score(y_test, y_pred)\n",
        "print(f\"Testing Accuracy: {accuracy:.2f}\")\n",
        "\n",
        "# Print classification report (includes precision, recall, f1-score, support)\n",
        "print(\"Classification Report:\")\n",
        "print(classification_report(y_test, y_pred))\n",
        "\n",
        "# Predict on training data\n",
        "train_predictions = model.predict(X_train)\n",
        "\n",
        "# Calculate accuracy on training data\n",
        "accuracy_train = accuracy_score(y_train, train_predictions)\n",
        "print(f\"Training Accuracy: {accuracy_train}\")\n"
      ],
      "metadata": {
        "colab": {
          "base_uri": "https://localhost:8080/"
        },
        "id": "BVdHorUdCgzJ",
        "outputId": "a1950edb-0bf3-48b1-a70d-4b396da8ddcb"
      },
      "execution_count": null,
      "outputs": [
        {
          "output_type": "stream",
          "name": "stdout",
          "text": [
            "Testing Accuracy: 0.73\n",
            "Classification Report:\n",
            "              precision    recall  f1-score   support\n",
            "\n",
            "           0       0.77      0.91      0.83       318\n",
            "           1       0.35      0.16      0.22       101\n",
            "\n",
            "    accuracy                           0.73       419\n",
            "   macro avg       0.56      0.53      0.53       419\n",
            "weighted avg       0.67      0.73      0.69       419\n",
            "\n",
            "Training Accuracy: 0.9599521817095039\n"
          ]
        }
      ]
    },
    {
      "cell_type": "code",
      "source": [
        "column_names = [\n",
        "    'filteredDemographicVO2Max', 'nremhr', 'full_sleep_breathing_rate',\n",
        "    'daily_temperature_variation', 'sleep_wake_ratio', 'rmssd', 'max_goal',\n",
        "    'calories', 'sleep_rem_ratio', 'resting_hr', 'min_goal', 'sleep_efficiency',\n",
        "    'minutesAwake', 'sleep_duration', 'minutes_in_default_zone_1', 'distance',\n",
        "    'sleep_deep_ratio', 'sleep_light_ratio', 'stress_score', 'nightly_temperature',\n",
        "    'responsiveness_points_percentage', 'lightly_active_minutes', 'bpm',\n",
        "    'sleep_points_percentage', 'very_active_minutes', 'minutes_below_default_zone_1'\n",
        "]"
      ],
      "metadata": {
        "id": "e4PVdAEpKBlu"
      },
      "execution_count": null,
      "outputs": []
    },
    {
      "cell_type": "code",
      "source": [
        "import pandas as pd\n",
        "from xgboost import XGBClassifier\n",
        "from sklearn.model_selection import train_test_split\n",
        "from sklearn.metrics import accuracy_score, classification_report\n",
        "\n",
        "# Load the Excel file into a DataFrame\n",
        "file_path1 = '/content/cleaned_data.xlsx'\n",
        "file_path2 = '/content/cleaned_data_only_input.xlsx'\n",
        "\n",
        "data1 = pd.read_excel(file_path1)\n",
        "data2 = pd.read_excel(file_path2)\n",
        "\n",
        "target_column = 'NEUTRAL'\n",
        "# features = ['feature1', 'feature2', 'feature3']\n",
        "\n",
        "X = data2[column_names]\n",
        "y = data1[target_column]\n",
        "\n",
        "# Split the data into training and testing sets\n",
        "X_train, X_test, y_train, y_test = train_test_split(X, y, test_size=0.2, random_state=42)\n",
        "\n",
        "# Create an XGBoost Classifier model\n",
        "model = XGBClassifier(n_estimators=100, learning_rate=0.1)  # You can adjust parameters like learning rate, n_estimators, etc.\n",
        "\n",
        "# Train the model\n",
        "model.fit(X_train, y_train)\n",
        "\n",
        "# Make predictions\n",
        "y_pred = model.predict(X_test)\n",
        "\n",
        "# Calculate accuracy on testing data\n",
        "accuracy = accuracy_score(y_test, y_pred)\n",
        "print(f\"Testing Accuracy: {accuracy:.2f}\")\n",
        "\n",
        "# Print classification report (includes precision, recall, f1-score, support)\n",
        "print(\"Classification Report:\")\n",
        "print(classification_report(y_test, y_pred))\n",
        "\n",
        "# Predict on training data\n",
        "train_predictions = model.predict(X_train)\n",
        "\n",
        "# Calculate accuracy on training data\n",
        "accuracy_train = accuracy_score(y_train, train_predictions)\n",
        "print(f\"Training Accuracy: {accuracy_train}\")\n"
      ],
      "metadata": {
        "colab": {
          "base_uri": "https://localhost:8080/"
        },
        "id": "1DJcHZXUCkAN",
        "outputId": "11cc469a-4c5c-4db5-8124-d90db6883421"
      },
      "execution_count": null,
      "outputs": [
        {
          "output_type": "stream",
          "name": "stdout",
          "text": [
            "Testing Accuracy: 0.76\n",
            "Classification Report:\n",
            "              precision    recall  f1-score   support\n",
            "\n",
            "           0       0.80      0.91      0.85       306\n",
            "           1       0.59      0.37      0.46       113\n",
            "\n",
            "    accuracy                           0.76       419\n",
            "   macro avg       0.69      0.64      0.65       419\n",
            "weighted avg       0.74      0.76      0.74       419\n",
            "\n",
            "Training Accuracy: 0.990436341900777\n"
          ]
        }
      ]
    },
    {
      "cell_type": "code",
      "source": [
        "import pandas as pd\n",
        "from xgboost import XGBClassifier\n",
        "from sklearn.model_selection import train_test_split\n",
        "from sklearn.metrics import accuracy_score, classification_report\n",
        "\n",
        "# Load the Excel file into a DataFrame\n",
        "file_path1 = '/content/cleaned_data.xlsx'\n",
        "file_path2 = '/content/cleaned_data_only_input.xlsx'\n",
        "\n",
        "data1 = pd.read_excel(file_path1)\n",
        "data2 = pd.read_excel(file_path2)\n",
        "\n",
        "target_column = 'NEUTRAL'\n",
        "# features = ['feature1', 'feature2', 'feature3']\n",
        "\n",
        "X = data2[column_names]\n",
        "y = data1[target_column]\n",
        "\n",
        "# Split the data into training and testing sets\n",
        "X_train, X_test, y_train, y_test = train_test_split(X, y, test_size=0.2, random_state=42)\n",
        "\n",
        "# Create an XGBoost Classifier model\n",
        "model = XGBClassifier(n_estimators=100, learning_rate=0.1)  # You can adjust parameters like learning rate, n_estimators, etc.\n",
        "\n",
        "# Train the model\n",
        "model.fit(X_train, y_train)\n",
        "\n",
        "# Make predictions\n",
        "y_pred = model.predict(X_test)\n",
        "\n",
        "# Calculate accuracy on testing data\n",
        "accuracy = accuracy_score(y_test, y_pred)\n",
        "print(f\"Testing Accuracy: {accuracy:.2f}\")\n",
        "\n",
        "# Print classification report (includes precision, recall, f1-score, support)\n",
        "print(\"Classification Report:\")\n",
        "print(classification_report(y_test, y_pred))\n",
        "\n",
        "# Predict on training data\n",
        "train_predictions = model.predict(X_train)\n",
        "\n",
        "# Calculate accuracy on training data\n",
        "accuracy_train = accuracy_score(y_train, train_predictions)\n",
        "print(f\"Training Accuracy: {accuracy_train}\")\n"
      ],
      "metadata": {
        "colab": {
          "base_uri": "https://localhost:8080/"
        },
        "id": "blPXuc95Cpsp",
        "outputId": "f4ec1cd7-de49-4949-b0b4-2b7b3717c3de"
      },
      "execution_count": null,
      "outputs": [
        {
          "output_type": "stream",
          "name": "stdout",
          "text": [
            "Testing Accuracy: 0.77\n",
            "Classification Report:\n",
            "              precision    recall  f1-score   support\n",
            "\n",
            "           0       0.79      0.92      0.85       306\n",
            "           1       0.62      0.35      0.45       113\n",
            "\n",
            "    accuracy                           0.77       419\n",
            "   macro avg       0.71      0.64      0.65       419\n",
            "weighted avg       0.75      0.77      0.75       419\n",
            "\n",
            "Training Accuracy: 0.9748953974895398\n"
          ]
        }
      ]
    },
    {
      "cell_type": "code",
      "source": [
        "column_names = [\n",
        "    'filteredDemographicVO2Max',\n",
        "    'daily_temperature_variation',\n",
        "    'exertion_points_percentage',\n",
        "    'rmssd',\n",
        "    'bmi',\n",
        "    'lightly_active_minutes',\n",
        "    'nremhr',\n",
        "    'sleep_rem_ratio',\n",
        "    'sleep_deep_ratio',\n",
        "    'sleep_efficiency',\n",
        "    'nightly_temperature',\n",
        "    'gender_FEMALE',\n",
        "    'min_goal',\n",
        "    'sleep_wake_ratio',\n",
        "    'minutesAfterWakeup',\n",
        "    'full_sleep_breathing_rate',\n",
        "    'max_goal',\n",
        "    'sleep_points_percentage',\n",
        "    'minutesAwake',\n",
        "    'responsiveness_points_percentage',\n",
        "    'gender_MALE',\n",
        "    'resting_hr',\n",
        "    'distance',\n",
        "    'sedentary_minutes'\n",
        "]\n"
      ],
      "metadata": {
        "id": "1xlInBU1LHNn"
      },
      "execution_count": null,
      "outputs": []
    },
    {
      "cell_type": "code",
      "source": [
        "import pandas as pd\n",
        "from xgboost import XGBClassifier\n",
        "from sklearn.model_selection import train_test_split\n",
        "from sklearn.metrics import accuracy_score, classification_report\n",
        "\n",
        "# Load the Excel file into a DataFrame\n",
        "file_path1 = '/content/cleaned_data.xlsx'\n",
        "file_path2 = '/content/cleaned_data_only_input.xlsx'\n",
        "\n",
        "data1 = pd.read_excel(file_path1)\n",
        "data2 = pd.read_excel(file_path2)\n",
        "\n",
        "target_column = 'RESTED/RELAXED'\n",
        "# features = ['feature1', 'feature2', 'feature3']\n",
        "\n",
        "X = data2[column_names]\n",
        "y = data1[target_column]\n",
        "\n",
        "# Split the data into training and testing sets\n",
        "X_train, X_test, y_train, y_test = train_test_split(X, y, test_size=0.2, random_state=42)\n",
        "\n",
        "# Create an XGBoost Classifier model\n",
        "model = XGBClassifier(n_estimators=100, learning_rate=0.1)  # You can adjust parameters like learning rate, n_estimators, etc.\n",
        "\n",
        "# Train the model\n",
        "model.fit(X_train, y_train)\n",
        "\n",
        "# Make predictions\n",
        "y_pred = model.predict(X_test)\n",
        "\n",
        "# Calculate accuracy on testing data\n",
        "accuracy = accuracy_score(y_test, y_pred)\n",
        "print(f\"Testing Accuracy: {accuracy:.2f}\")\n",
        "\n",
        "# Print classification report (includes precision, recall, f1-score, support)\n",
        "print(\"Classification Report:\")\n",
        "print(classification_report(y_test, y_pred))\n",
        "\n",
        "# Predict on training data\n",
        "train_predictions = model.predict(X_train)\n",
        "\n",
        "# Calculate accuracy on training data\n",
        "accuracy_train = accuracy_score(y_train, train_predictions)\n",
        "print(f\"Training Accuracy: {accuracy_train}\")\n"
      ],
      "metadata": {
        "colab": {
          "base_uri": "https://localhost:8080/"
        },
        "id": "jFjfAWtHCszG",
        "outputId": "4c3e2132-c95d-4de1-c7dc-2fb2132b8fda"
      },
      "execution_count": null,
      "outputs": [
        {
          "output_type": "stream",
          "name": "stdout",
          "text": [
            "Testing Accuracy: 0.66\n",
            "Classification Report:\n",
            "              precision    recall  f1-score   support\n",
            "\n",
            "           0       0.69      0.78      0.73       250\n",
            "           1       0.60      0.48      0.53       169\n",
            "\n",
            "    accuracy                           0.66       419\n",
            "   macro avg       0.65      0.63      0.63       419\n",
            "weighted avg       0.65      0.66      0.65       419\n",
            "\n",
            "Training Accuracy: 0.9659294680215182\n"
          ]
        }
      ]
    },
    {
      "cell_type": "code",
      "source": [
        "column_names = [\n",
        "    'resting_hr',\n",
        "    'full_sleep_breathing_rate',\n",
        "    'filteredDemographicVO2Max',\n",
        "    'max_goal'\n",
        "]"
      ],
      "metadata": {
        "id": "sQymZqYELM3i"
      },
      "execution_count": null,
      "outputs": []
    },
    {
      "cell_type": "code",
      "source": [
        "import pandas as pd\n",
        "from xgboost import XGBClassifier\n",
        "from sklearn.model_selection import train_test_split\n",
        "from sklearn.metrics import accuracy_score, classification_report\n",
        "\n",
        "# Load the Excel file into a DataFrame\n",
        "file_path1 = '/content/cleaned_data.xlsx'\n",
        "file_path2 = '/content/cleaned_data_only_input.xlsx'\n",
        "\n",
        "data1 = pd.read_excel(file_path1)\n",
        "data2 = pd.read_excel(file_path2)\n",
        "\n",
        "target_column = 'SAD'\n",
        "# features = ['feature1', 'feature2', 'feature3']\n",
        "\n",
        "X = data2[column_names]\n",
        "y = data1[target_column]\n",
        "\n",
        "# Split the data into training and testing sets\n",
        "X_train, X_test, y_train, y_test = train_test_split(X, y, test_size=0.2, random_state=42)\n",
        "\n",
        "# Create an XGBoost Classifier model\n",
        "model = XGBClassifier(n_estimators=100, learning_rate=0.1)  # You can adjust parameters like learning rate, n_estimators, etc.\n",
        "\n",
        "# Train the model\n",
        "model.fit(X_train, y_train)\n",
        "\n",
        "# Make predictions\n",
        "y_pred = model.predict(X_test)\n",
        "\n",
        "# Calculate accuracy on testing data\n",
        "accuracy = accuracy_score(y_test, y_pred)\n",
        "print(f\"Testing Accuracy: {accuracy:.2f}\")\n",
        "\n",
        "# Print classification report (includes precision, recall, f1-score, support)\n",
        "print(\"Classification Report:\")\n",
        "print(classification_report(y_test, y_pred))\n",
        "\n",
        "# Predict on training data\n",
        "train_predictions = model.predict(X_train)\n",
        "\n",
        "# Calculate accuracy on training data\n",
        "accuracy_train = accuracy_score(y_train, train_predictions)\n",
        "print(f\"Training Accuracy: {accuracy_train}\")\n"
      ],
      "metadata": {
        "colab": {
          "base_uri": "https://localhost:8080/"
        },
        "id": "NbO0UR3vCuWF",
        "outputId": "89ef71aa-d548-4715-9c29-709b8b8ed41f"
      },
      "execution_count": null,
      "outputs": [
        {
          "output_type": "stream",
          "name": "stdout",
          "text": [
            "Testing Accuracy: 0.93\n",
            "Classification Report:\n",
            "              precision    recall  f1-score   support\n",
            "\n",
            "           0       0.94      0.99      0.97       393\n",
            "           1       0.00      0.00      0.00        26\n",
            "\n",
            "    accuracy                           0.93       419\n",
            "   macro avg       0.47      0.50      0.48       419\n",
            "weighted avg       0.88      0.93      0.91       419\n",
            "\n",
            "Training Accuracy: 0.9635385534967125\n"
          ]
        }
      ]
    },
    {
      "cell_type": "code",
      "source": [
        "column_names = [\n",
        "    'sleep_light_ratio',\n",
        "    'min_goal',\n",
        "    'rmssd',\n",
        "    'bmi',\n",
        "    'filteredDemographicVO2Max',\n",
        "    'max_goal',\n",
        "    'nremhr',\n",
        "    'steps',\n",
        "    'gender_FEMALE',\n",
        "    'stress_score'\n",
        "]"
      ],
      "metadata": {
        "id": "h6SCI82ITOJj"
      },
      "execution_count": 10,
      "outputs": []
    },
    {
      "cell_type": "code",
      "source": [
        "import pandas as pd\n",
        "from xgboost import XGBClassifier\n",
        "from sklearn.model_selection import train_test_split\n",
        "from sklearn.metrics import accuracy_score, classification_report\n",
        "\n",
        "# Load the Excel file into a DataFrame\n",
        "file_path1 = '/content/cleaned_data.xlsx'\n",
        "file_path2 = '/content/cleaned_data_only_input.xlsx'\n",
        "\n",
        "data1 = pd.read_excel(file_path1)\n",
        "data2 = pd.read_excel(file_path2)\n",
        "\n",
        "target_column = 'TENSE/ANXIOUS'\n",
        "# features = ['feature1', 'feature2', 'feature3']\n",
        "\n",
        "X = data2[column_names]\n",
        "y = data1[target_column]\n",
        "\n",
        "# Split the data into training and testing sets\n",
        "X_train, X_test, y_train, y_test = train_test_split(X, y, test_size=0.2, random_state=42)\n",
        "\n",
        "# Create an XGBoost Classifier model\n",
        "model = XGBClassifier(n_estimators=100, learning_rate=0.1)  # You can adjust parameters like learning rate, n_estimators, etc.\n",
        "\n",
        "# Train the model\n",
        "model.fit(X_train, y_train)\n",
        "\n",
        "# Make predictions\n",
        "y_pred = model.predict(X_test)\n",
        "\n",
        "# Calculate accuracy on testing data\n",
        "accuracy = accuracy_score(y_test, y_pred)\n",
        "print(f\"Testing Accuracy: {accuracy:.2f}\")\n",
        "\n",
        "# Print classification report (includes precision, recall, f1-score, support)\n",
        "print(\"Classification Report:\")\n",
        "print(classification_report(y_test, y_pred))\n",
        "\n",
        "# Predict on training data\n",
        "train_predictions = model.predict(X_train)\n",
        "\n",
        "# Calculate accuracy on training data\n",
        "accuracy_train = accuracy_score(y_train, train_predictions)\n",
        "print(f\"Training Accuracy: {accuracy_train}\")\n"
      ],
      "metadata": {
        "colab": {
          "base_uri": "https://localhost:8080/"
        },
        "id": "EGpZUA1tUBFv",
        "outputId": "eea78580-0536-4f4d-c5e0-c017aae8df5e"
      },
      "execution_count": 11,
      "outputs": [
        {
          "output_type": "stream",
          "name": "stdout",
          "text": [
            "Testing Accuracy: 0.79\n",
            "Classification Report:\n",
            "              precision    recall  f1-score   support\n",
            "\n",
            "           0       0.81      0.95      0.88       332\n",
            "           1       0.45      0.16      0.24        87\n",
            "\n",
            "    accuracy                           0.79       419\n",
            "   macro avg       0.63      0.55      0.56       419\n",
            "weighted avg       0.74      0.79      0.74       419\n",
            "\n",
            "Training Accuracy: 0.9169157202630006\n"
          ]
        }
      ]
    },
    {
      "cell_type": "code",
      "source": [
        "column_names = [\n",
        "    'sleep_light_ratio',\n",
        "    'minutesAfterWakeup',\n",
        "    'sleep_rem_ratio',\n",
        "    'lightly_active_minutes',\n",
        "    'sleep_wake_ratio',\n",
        "    'sleep_deep_ratio',\n",
        "    'filteredDemographicVO2Max',\n",
        "    'gender_MALE',\n",
        "    'sleep_points_percentage',\n",
        "    'daily_temperature_variation',\n",
        "    'responsiveness_points_percentage',\n",
        "    'min_goal',\n",
        "    'stress_score',\n",
        "    'minutesToFallAsleep',\n",
        "    'bpm',\n",
        "    'gender_FEMALE',\n",
        "    'resting_hr',\n",
        "    'minutesAwake',\n",
        "    'bmi',\n",
        "    'full_sleep_breathing_rate'\n",
        "]"
      ],
      "metadata": {
        "id": "xYDcXHgKVZxz"
      },
      "execution_count": 15,
      "outputs": []
    },
    {
      "cell_type": "code",
      "source": [
        "import pandas as pd\n",
        "from xgboost import XGBClassifier\n",
        "from sklearn.model_selection import train_test_split\n",
        "from sklearn.metrics import accuracy_score, classification_report\n",
        "\n",
        "# Load the Excel file into a DataFrame\n",
        "file_path1 = '/content/cleaned_data.xlsx'\n",
        "file_path2 = '/content/cleaned_data_only_input.xlsx'\n",
        "\n",
        "data1 = pd.read_excel(file_path1)\n",
        "data2 = pd.read_excel(file_path2)\n",
        "\n",
        "target_column = 'TIRED'\n",
        "# features = ['feature1', 'feature2', 'feature3']\n",
        "\n",
        "X = data2[column_names]\n",
        "y = data1[target_column]\n",
        "\n",
        "# Split the data into training and testing sets\n",
        "X_train, X_test, y_train, y_test = train_test_split(X, y, test_size=0.2, random_state=42)\n",
        "\n",
        "# Create an XGBoost Classifier model\n",
        "model = XGBClassifier(n_estimators=100, learning_rate=0.1)  # You can adjust parameters like learning rate, n_estimators, etc.\n",
        "\n",
        "# Train the model\n",
        "model.fit(X_train, y_train)\n",
        "\n",
        "# Make predictions\n",
        "y_pred = model.predict(X_test)\n",
        "\n",
        "# Calculate accuracy on testing data\n",
        "accuracy = accuracy_score(y_test, y_pred)\n",
        "print(f\"Testing Accuracy: {accuracy:.2f}\")\n",
        "\n",
        "# Print classification report (includes precision, recall, f1-score, support)\n",
        "print(\"Classification Report:\")\n",
        "print(classification_report(y_test, y_pred))\n",
        "\n",
        "# Predict on training data\n",
        "train_predictions = model.predict(X_train)\n",
        "\n",
        "# Calculate accuracy on training data\n",
        "accuracy_train = accuracy_score(y_train, train_predictions)\n",
        "print(f\"Training Accuracy: {accuracy_train}\")\n"
      ],
      "metadata": {
        "colab": {
          "base_uri": "https://localhost:8080/"
        },
        "id": "0_kCyN3YVbCb",
        "outputId": "b08b3085-bed9-483e-ec35-0105152efab4"
      },
      "execution_count": 16,
      "outputs": [
        {
          "output_type": "stream",
          "name": "stdout",
          "text": [
            "Testing Accuracy: 0.63\n",
            "Classification Report:\n",
            "              precision    recall  f1-score   support\n",
            "\n",
            "           0       0.69      0.78      0.73       268\n",
            "           1       0.49      0.37      0.42       151\n",
            "\n",
            "    accuracy                           0.63       419\n",
            "   macro avg       0.59      0.58      0.58       419\n",
            "weighted avg       0.62      0.63      0.62       419\n",
            "\n",
            "Training Accuracy: 0.9545726240286909\n"
          ]
        }
      ]
    },
    {
      "cell_type": "code",
      "source": [
        "column_names = [\n",
        "    'very_active_minutes',\n",
        "    'sleep_wake_ratio',\n",
        "    'sleep_duration',\n",
        "    'sleep_rem_ratio',\n",
        "    'sleep_efficiency',\n",
        "    'distance',\n",
        "    'nremhr',\n",
        "    'minutesAwake'\n",
        "]"
      ],
      "metadata": {
        "id": "VRBJ_q1rXATG"
      },
      "execution_count": 28,
      "outputs": []
    },
    {
      "cell_type": "code",
      "source": [
        "import pandas as pd\n",
        "from xgboost import XGBClassifier\n",
        "from sklearn.model_selection import train_test_split\n",
        "from sklearn.metrics import accuracy_score, classification_report\n",
        "\n",
        "# Load the Excel file into a DataFrame\n",
        "file_path1 = '/content/cleaned_data.xlsx'\n",
        "file_path2 = '/content/cleaned_data_only_input.xlsx'\n",
        "\n",
        "data1 = pd.read_excel(file_path1)\n",
        "data2 = pd.read_excel(file_path2)\n",
        "\n",
        "target_column = 'ENTERTAINMENT'\n",
        "# features = ['feature1', 'feature2', 'feature3']\n",
        "\n",
        "X = data2[column_names]\n",
        "y = data1[target_column]\n",
        "\n",
        "# Split the data into training and testing sets\n",
        "X_train, X_test, y_train, y_test = train_test_split(X, y, test_size=0.2, random_state=42)\n",
        "\n",
        "# Create an XGBoost Classifier model\n",
        "model = XGBClassifier(n_estimators=100, learning_rate=0.1)  # You can adjust parameters like learning rate, n_estimators, etc.\n",
        "\n",
        "# Train the model\n",
        "model.fit(X_train, y_train)\n",
        "\n",
        "# Make predictions\n",
        "y_pred = model.predict(X_test)\n",
        "\n",
        "# Calculate accuracy on testing data\n",
        "accuracy = accuracy_score(y_test, y_pred)\n",
        "print(f\"Testing Accuracy: {accuracy:.2f}\")\n",
        "\n",
        "# Print classification report (includes precision, recall, f1-score, support)\n",
        "print(\"Classification Report:\")\n",
        "print(classification_report(y_test, y_pred))\n",
        "\n",
        "# Predict on training data\n",
        "train_predictions = model.predict(X_train)\n",
        "\n",
        "# Calculate accuracy on training data\n",
        "accuracy_train = accuracy_score(y_train, train_predictions)\n",
        "print(f\"Training Accuracy: {accuracy_train}\")\n"
      ],
      "metadata": {
        "colab": {
          "base_uri": "https://localhost:8080/"
        },
        "id": "gXLkgIQvXBZ2",
        "outputId": "b1627ea5-8052-4b54-c420-044af2dfa7b6"
      },
      "execution_count": 29,
      "outputs": [
        {
          "output_type": "stream",
          "name": "stdout",
          "text": [
            "Testing Accuracy: 0.93\n",
            "Classification Report:\n",
            "              precision    recall  f1-score   support\n",
            "\n",
            "           0       0.94      0.99      0.97       394\n",
            "           1       0.20      0.04      0.07        25\n",
            "\n",
            "    accuracy                           0.93       419\n",
            "   macro avg       0.57      0.51      0.52       419\n",
            "weighted avg       0.90      0.93      0.91       419\n",
            "\n",
            "Training Accuracy: 0.9748953974895398\n"
          ]
        }
      ]
    }
  ]
}