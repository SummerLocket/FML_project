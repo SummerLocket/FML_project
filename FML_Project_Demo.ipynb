{
  "nbformat": 4,
  "nbformat_minor": 0,
  "metadata": {
    "colab": {
      "provenance": [],
      "gpuType": "T4"
    },
    "kernelspec": {
      "name": "python3",
      "display_name": "Python 3"
    },
    "language_info": {
      "name": "python"
    },
    "accelerator": "GPU"
  },
  "cells": [
    {
      "cell_type": "markdown",
      "source": [
        "\\Neural Network,\n",
        "Bagging - RF,\n",
        "Boosting - AdaBoost,\n",
        "Gradient Boosting"
      ],
      "metadata": {
        "id": "SYsakpiLZRCI"
      }
    },
    {
      "cell_type": "code",
      "source": [
        "from sklearn.model_selection import train_test_split\n",
        "from sklearn.ensemble import RandomForestClassifier, GradientBoostingClassifier, AdaBoostClassifier, BaggingClassifier, StackingClassifier\n",
        "from sklearn.svm import SVC\n",
        "from sklearn.datasets import make_classification\n",
        "from sklearn.metrics import accuracy_score\n",
        "import numpy as np\n",
        "import pandas as pd"
      ],
      "metadata": {
        "id": "xnDh4y0CbWbp"
      },
      "execution_count": null,
      "outputs": []
    },
    {
      "cell_type": "markdown",
      "source": [
        "### For all the well-being parameters"
      ],
      "metadata": {
        "id": "iS2taAClZqzz"
      }
    },
    {
      "cell_type": "code",
      "source": [
        "#important features\n",
        "feature_names_alert = ['filteredDemographicVO2Max','nremhr','bmi','minutesAsleep','min_goal','minutes_below_default_zone_1','max_goal','resting_hr','full_sleep_breathing_rate','rmssd','sleep_efficiency','sleep_light_ratio','very_active_minutes','minutes_in_default_zone_2','sleep_wake_ratio','nightly_temperature','sleep_duration','age','sleep_points_percentage']\n",
        "feature_names_happy = ['filteredDemographicVO2Max', 'sleep_points_percentage', 'sleep_wake_ratio', 'stress_score', 'exertion_points_percentage', 'sleep_rem_ratio', 'nremhr', 'rmssd', 'min_goal', 'nightly_temperature', 'sleep_efficiency', 'steps', 'minutesAfterWakeup', 'daily_temperature_variation', 'gender_FEMALE', 'full_sleep_breathing_rate', 'sleep_light_ratio']\n",
        "feature_names_rested = ['filteredDemographicVO2Max', 'daily_temperature_variation', 'exertion_points_percentage', 'rmssd', 'bmi', 'lightly_active_minutes', 'nremhr', 'sleep_rem_ratio', 'sleep_deep_ratio', 'sleep_efficiency', 'nightly_temperature', 'gender_FEMALE', 'min_goal', 'sleep_wake_ratio', 'minutesAfterWakeup', 'full_sleep_breathing_rate', 'max_goal', 'sleep_points_percentage', 'minutesAwake', 'responsiveness_points_percentage', 'gender_MALE', 'resting_hr', 'distance', 'sedentary_minutes']\n",
        "feature_names_sad = ['resting_hr','full_sleep_breathing_rate', 'filteredDemographicVO2Max', 'max_goal']\n",
        "feature_names_tensed = ['sleep_light_ratio', 'min_goal', 'rmssd', 'bmi', 'filteredDemographicVO2Max', 'max_goal', 'nremhr', 'steps', 'gender_FEMALE', 'stress_score']\n",
        "feature_names_tired = ['sleep_light_ratio', 'minutesAfterWakeup', 'sleep_rem_ratio', 'lightly_active_minutes', 'sleep_wake_ratio', 'sleep_deep_ratio', 'filteredDemographicVO2Max', 'gender_MALE', 'sleep_points_percentage', 'daily_temperature_variation', 'responsiveness_points_percentage', 'min_goal', 'stress_score', 'minutesToFallAsleep', 'bpm', 'gender_FEMALE', 'resting_hr', 'minutesAwake', 'bmi', 'full_sleep_breathing_rate']\n",
        "feature_names_entertainment = ['very_active_minutes', 'sleep_wake_ratio', 'sleep_duration', 'sleep_rem_ratio', 'sleep_efficiency', 'distance', 'nremhr', 'minutesAwake']\n",
        "\n",
        "feature_used_list = [feature_names_alert, feature_names_happy, feature_names_rested, feature_names_sad, feature_names_tensed, feature_names_tired, feature_names_entertainment]"
      ],
      "metadata": {
        "id": "w0cVSwcmZDLu"
      },
      "execution_count": null,
      "outputs": []
    },
    {
      "cell_type": "code",
      "source": [
        "X_list = ['ALERT','HAPPY','RESTED/RELAXED','SAD','TENSE/ANXIOUS','TIRED','ENTERTAINMENT']"
      ],
      "metadata": {
        "id": "jPmB6evpoJxB"
      },
      "execution_count": null,
      "outputs": []
    },
    {
      "cell_type": "markdown",
      "source": [
        "### NN Best parameter tuning"
      ],
      "metadata": {
        "id": "KSKt8RPXWtbl"
      }
    },
    {
      "cell_type": "code",
      "source": [
        "from sklearn.neural_network import MLPClassifier\n",
        "from sklearn.model_selection import GridSearchCV\n",
        "import pandas as pd\n",
        "from sklearn.preprocessing import StandardScaler\n",
        "\n",
        "file_path1 = '/content/cleaned_data.csv'\n",
        "file_path2 = '/content/cleaned_data_only_input.csv'\n",
        "data1 = pd.read_csv(file_path1)\n",
        "data2 = pd.read_csv(file_path2)\n",
        "best_params_list = []\n",
        "for target_col in X_list:\n",
        "  X = data2.values\n",
        "  y = data1[target_col].values\n",
        "  scaler = StandardScaler()\n",
        "  X = scaler.fit_transform(X)\n",
        "  param_grid = {\n",
        "      'hidden_layer_sizes': [ (128,64), (64, 32), (64, 64, 16), (128,64,32)],\n",
        "      'activation': ['relu', 'tanh'],\n",
        "      'alpha': [0.0001, 0.001, 0.01],\n",
        "      'learning_rate_init': [0.0001, 0.001, 0.01, 0.1],\n",
        "      'max_iter': [50],\n",
        "      'random_state': [1, 42, 100]\n",
        "  }\n",
        "\n",
        "  grid_search = GridSearchCV(MLPClassifier(), param_grid, cv=3)\n",
        "  grid_search.fit(X, y)\n",
        "  best_params = grid_search.best_params_\n",
        "  best_params_list.append(best_params)"
      ],
      "metadata": {
        "id": "eQISN81MsqjQ"
      },
      "execution_count": null,
      "outputs": []
    },
    {
      "cell_type": "code",
      "source": [
        "print(best_params_list)"
      ],
      "metadata": {
        "id": "Y31HBSnHP_p4"
      },
      "execution_count": null,
      "outputs": []
    },
    {
      "cell_type": "markdown",
      "source": [
        "### Stacking Classifier"
      ],
      "metadata": {
        "id": "5grD4z1Pjcq3"
      }
    },
    {
      "cell_type": "code",
      "source": [
        "predictions_df = pd.DataFrame()\n",
        "for feat, op_data, best_params in zip(feature_used_list, X_list,best_params_list):\n",
        "  base_models = [\n",
        "    ('Random Forest', RandomForestClassifier(n_estimators=50, random_state=42)),\n",
        "    ('Gradient Boosting', GradientBoostingClassifier(n_estimators=50, random_state=42)),\n",
        "    ('Neural Networks', MLPClassifier(**best_params)),\n",
        "    ('AdaBoost', AdaBoostClassifier(n_estimators=50, random_state=42)),\n",
        "    ]\n",
        "  X = data2[feat]\n",
        "  y = data1[op_data]\n",
        "  X_train, X_test, y_train, y_test = train_test_split(X, y, test_size=0.2, random_state=42)\n",
        "  print(\"Predicting for:\", op_data)\n",
        "  for name, model in base_models:\n",
        "    model.fit(X_train, y_train)\n",
        "    y_pred_train = model.predict(X_train)\n",
        "    accuracy_train = accuracy_score(y_train, y_pred_train)\n",
        "    y_pred_test = model.predict(X_test)\n",
        "    accuracy_test = accuracy_score(y_test, y_pred_test)\n",
        "    print(f'{name} Train Accuracy: {accuracy_train:.4f}, Test Accuracy: {accuracy_test:.4f}')\n",
        "\n",
        "# Defining Stacking model\n",
        "  stacking_model = StackingClassifier(estimators=base_models[:-1], final_estimator=base_models[-1][1])\n",
        "  stacking_model.fit(X_train, y_train)\n",
        "  y_pred_stacking_train = stacking_model.predict(X_train)\n",
        "  accuracy_stacking_train = accuracy_score(y_train, y_pred_stacking_train)\n",
        "\n",
        "  y_pred_stacking_test = stacking_model.predict(X_test)\n",
        "  accuracy_stacking_test = accuracy_score(y_test, y_pred_stacking_test)\n",
        "  print(f'Stacking Train Accuracy: {accuracy_stacking_train:.4f}, Test Accuracy: {accuracy_stacking_test:.4f}')\n",
        "  predictions_df[op_data] = y_pred_stacking_test\n",
        "\n",
        "predictions_df.to_csv('predictions.csv', index=False)"
      ],
      "metadata": {
        "id": "fSf9v0m9c_mX"
      },
      "execution_count": null,
      "outputs": []
    }
  ]
}