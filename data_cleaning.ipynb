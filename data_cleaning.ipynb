{
 "cells": [
  {
   "cell_type": "code",
   "execution_count": 1,
   "metadata": {},
   "outputs": [],
   "source": [
    "import pandas as pd"
   ]
  },
  {
   "cell_type": "code",
   "execution_count": 2,
   "metadata": {},
   "outputs": [],
   "source": [
    "df = pd.read_csv(r'fitbit_filtered_removed_some_blanks.csv')"
   ]
  },
  {
   "cell_type": "code",
   "execution_count": 3,
   "metadata": {},
   "outputs": [],
   "source": [
    "df['mindfulness_session'] = df['mindfulness_session'].replace({False: 0, True: 1})"
   ]
  },
  {
   "cell_type": "code",
   "execution_count": 6,
   "metadata": {},
   "outputs": [],
   "source": [
    "df['age'] = df['age'].replace({'<30': 0.5, '>=30': 1})"
   ]
  },
  {
   "cell_type": "code",
   "execution_count": 8,
   "metadata": {},
   "outputs": [],
   "source": [
    "df = pd.get_dummies(df, columns=['gender'])"
   ]
  },
  {
   "cell_type": "code",
   "execution_count": 9,
   "metadata": {},
   "outputs": [],
   "source": [
    "df['bmi'] = df['bmi'].replace({'<19': 19, '>=25': 25, '>=30': 30})"
   ]
  },
  {
   "cell_type": "code",
   "execution_count": null,
   "metadata": {},
   "outputs": [],
   "source": []
  },
  {
   "cell_type": "code",
   "execution_count": 11,
   "metadata": {},
   "outputs": [],
   "source": [
    "df['bmi'] = pd.to_numeric(df['bmi'], errors='coerce')"
   ]
  },
  {
   "cell_type": "code",
   "execution_count": 12,
   "metadata": {},
   "outputs": [],
   "source": [
    "df['age'] = pd.to_numeric(df['age'], errors='coerce')"
   ]
  },
  {
   "cell_type": "code",
   "execution_count": 20,
   "metadata": {},
   "outputs": [],
   "source": [
    "df.to_excel('df_cleaned.xlsx', index=False)"
   ]
  },
  {
   "cell_type": "markdown",
   "metadata": {},
   "source": [
    "# Null value filling"
   ]
  },
  {
   "cell_type": "code",
   "execution_count": 48,
   "metadata": {},
   "outputs": [],
   "source": [
    "df1 = pd.read_excel(r'df_cleaned.xlsx')"
   ]
  },
  {
   "cell_type": "code",
   "execution_count": null,
   "metadata": {},
   "outputs": [],
   "source": []
  },
  {
   "cell_type": "code",
   "execution_count": 50,
   "metadata": {},
   "outputs": [],
   "source": [
    "#df1['step_goal'] = df['step_goal'].replace({'NO_GOAL': 0})"
   ]
  },
  {
   "cell_type": "code",
   "execution_count": 51,
   "metadata": {},
   "outputs": [],
   "source": [
    "columns = ['nightly_temperature', 'nremhr', 'rmssd', 'full_sleep_breathing_rate', 'stress_score', 'sleep_points_percentage', 'exertion_points_percentage', 'responsiveness_points_percentage', 'daily_temperature_variation', 'calories', 'filteredDemographicVO2Max', 'distance', 'bpm', 'lightly_active_minutes', 'moderately_active_minutes', 'very_active_minutes', 'sedentary_minutes', 'mindfulness_session', 'resting_hr', 'sleep_duration', 'minutesToFallAsleep', 'minutesAsleep', 'minutesAwake', 'minutesAfterWakeup', 'sleep_efficiency', 'sleep_deep_ratio', 'sleep_wake_ratio', 'sleep_light_ratio', 'sleep_rem_ratio', 'steps', 'minutes_in_default_zone_1', 'minutes_below_default_zone_1', 'minutes_in_default_zone_2', 'minutes_in_default_zone_3', 'age', 'bmi', 'min_goal', 'max_goal']"
   ]
  },
  {
   "cell_type": "code",
   "execution_count": 52,
   "metadata": {},
   "outputs": [],
   "source": [
    "grouped_df = df1.groupby('id')"
   ]
  },
  {
   "cell_type": "code",
   "execution_count": 53,
   "metadata": {},
   "outputs": [
    {
     "name": "stdout",
     "output_type": "stream",
     "text": [
      "nightly_temperature\n",
      "nremhr\n",
      "rmssd\n",
      "full_sleep_breathing_rate\n",
      "stress_score\n",
      "sleep_points_percentage\n",
      "exertion_points_percentage\n",
      "responsiveness_points_percentage\n",
      "daily_temperature_variation\n",
      "calories\n",
      "filteredDemographicVO2Max\n",
      "distance\n",
      "bpm\n",
      "lightly_active_minutes\n",
      "moderately_active_minutes\n",
      "very_active_minutes\n",
      "sedentary_minutes\n",
      "mindfulness_session\n",
      "resting_hr\n",
      "sleep_duration\n",
      "minutesToFallAsleep\n",
      "minutesAsleep\n",
      "minutesAwake\n",
      "minutesAfterWakeup\n",
      "sleep_efficiency\n",
      "sleep_deep_ratio\n",
      "sleep_wake_ratio\n",
      "sleep_light_ratio\n",
      "sleep_rem_ratio\n",
      "steps\n",
      "minutes_in_default_zone_1\n",
      "minutes_below_default_zone_1\n",
      "minutes_in_default_zone_2\n",
      "minutes_in_default_zone_3\n",
      "age\n",
      "bmi\n",
      "min_goal\n",
      "max_goal\n"
     ]
    }
   ],
   "source": [
    "for column in columns:\n",
    "    print(column)\n",
    "    df1[column] = grouped_df[column].transform(lambda x: x.fillna(x.mean()))"
   ]
  },
  {
   "cell_type": "code",
   "execution_count": 56,
   "metadata": {},
   "outputs": [],
   "source": [
    "for column in columns:\n",
    "    df1[column] = df1[column].fillna(df1[column].mean())"
   ]
  },
  {
   "cell_type": "code",
   "execution_count": 57,
   "metadata": {},
   "outputs": [],
   "source": [
    "df1.to_excel('cleaned_data.xlsx', index = False)"
   ]
  },
  {
   "cell_type": "markdown",
   "metadata": {},
   "source": [
    "# Feature importance"
   ]
  },
  {
   "cell_type": "code",
   "execution_count": 1,
   "metadata": {},
   "outputs": [],
   "source": [
    "import pandas as pd"
   ]
  },
  {
   "cell_type": "code",
   "execution_count": 2,
   "metadata": {},
   "outputs": [],
   "source": [
    "df = pd.read_excel(r'cleaned_data.xlsx')"
   ]
  },
  {
   "cell_type": "code",
   "execution_count": 4,
   "metadata": {},
   "outputs": [],
   "source": [
    "df1 = pd.read_excel(r'cleaned_data_only_input.xlsx')"
   ]
  },
  {
   "cell_type": "code",
   "execution_count": 5,
   "metadata": {},
   "outputs": [],
   "source": [
    "f1 = df['ALERT']"
   ]
  },
  {
   "cell_type": "code",
   "execution_count": 6,
   "metadata": {},
   "outputs": [],
   "source": [
    "from sklearn.feature_selection import mutual_info_classif"
   ]
  },
  {
   "cell_type": "code",
   "execution_count": 7,
   "metadata": {},
   "outputs": [],
   "source": [
    "X = df1\n",
    "y = f1"
   ]
  },
  {
   "cell_type": "code",
   "execution_count": 8,
   "metadata": {},
   "outputs": [],
   "source": [
    "feature_importance = pd.Series(mutual_info_classif(X, y), index=X.columns).sort_values(ascending=False)"
   ]
  },
  {
   "cell_type": "markdown",
   "metadata": {},
   "source": [
    "## ALERT"
   ]
  },
  {
   "cell_type": "code",
   "execution_count": 9,
   "metadata": {},
   "outputs": [
    {
     "data": {
      "text/plain": [
       "filteredDemographicVO2Max           0.037589\n",
       "nremhr                              0.028367\n",
       "bmi                                 0.025437\n",
       "minutesAsleep                       0.023601\n",
       "min_goal                            0.023264\n",
       "minutes_below_default_zone_1        0.023235\n",
       "max_goal                            0.021927\n",
       "resting_hr                          0.020931\n",
       "full_sleep_breathing_rate           0.020167\n",
       "rmssd                               0.016802\n",
       "sleep_efficiency                    0.016278\n",
       "sleep_light_ratio                   0.015371\n",
       "very_active_minutes                 0.014296\n",
       "minutes_in_default_zone_2           0.013173\n",
       "sleep_wake_ratio                    0.013089\n",
       "nightly_temperature                 0.012836\n",
       "sleep_duration                      0.012430\n",
       "age                                 0.011293\n",
       "sleep_points_percentage             0.010443\n",
       "minutes_in_default_zone_1           0.009701\n",
       "sleep_deep_ratio                    0.008795\n",
       "steps                               0.008200\n",
       "exertion_points_percentage          0.007779\n",
       "daily_temperature_variation         0.003288\n",
       "responsiveness_points_percentage    0.002141\n",
       "moderately_active_minutes           0.001970\n",
       "bpm                                 0.001163\n",
       "minutesAfterWakeup                  0.000880\n",
       "sleep_rem_ratio                     0.000338\n",
       "minutes_in_default_zone_3           0.000000\n",
       "gender_FEMALE                       0.000000\n",
       "minutesToFallAsleep                 0.000000\n",
       "minutesAwake                        0.000000\n",
       "mindfulness_session                 0.000000\n",
       "sedentary_minutes                   0.000000\n",
       "lightly_active_minutes              0.000000\n",
       "distance                            0.000000\n",
       "calories                            0.000000\n",
       "stress_score                        0.000000\n",
       "gender_MALE                         0.000000\n",
       "dtype: float64"
      ]
     },
     "execution_count": 9,
     "metadata": {},
     "output_type": "execute_result"
    }
   ],
   "source": [
    "feature_importance"
   ]
  },
  {
   "cell_type": "markdown",
   "metadata": {},
   "source": [
    "## HAPPY"
   ]
  },
  {
   "cell_type": "code",
   "execution_count": 11,
   "metadata": {},
   "outputs": [
    {
     "data": {
      "text/plain": [
       "filteredDemographicVO2Max           0.049771\n",
       "sleep_points_percentage             0.024774\n",
       "sleep_wake_ratio                    0.023716\n",
       "stress_score                        0.020699\n",
       "exertion_points_percentage          0.020334\n",
       "sleep_rem_ratio                     0.019291\n",
       "nremhr                              0.018996\n",
       "rmssd                               0.018814\n",
       "min_goal                            0.018530\n",
       "nightly_temperature                 0.018083\n",
       "sleep_efficiency                    0.017259\n",
       "steps                               0.016631\n",
       "minutesAfterWakeup                  0.014318\n",
       "daily_temperature_variation         0.014001\n",
       "gender_FEMALE                       0.012670\n",
       "full_sleep_breathing_rate           0.011874\n",
       "sleep_light_ratio                   0.010325\n",
       "minutesAwake                        0.009865\n",
       "sleep_deep_ratio                    0.009506\n",
       "sedentary_minutes                   0.008300\n",
       "distance                            0.007305\n",
       "max_goal                            0.007070\n",
       "very_active_minutes                 0.005129\n",
       "minutes_in_default_zone_3           0.005053\n",
       "gender_MALE                         0.003973\n",
       "minutesAsleep                       0.003332\n",
       "lightly_active_minutes              0.003106\n",
       "resting_hr                          0.001898\n",
       "sleep_duration                      0.000000\n",
       "mindfulness_session                 0.000000\n",
       "moderately_active_minutes           0.000000\n",
       "minutes_in_default_zone_1           0.000000\n",
       "minutes_below_default_zone_1        0.000000\n",
       "minutes_in_default_zone_2           0.000000\n",
       "age                                 0.000000\n",
       "bmi                                 0.000000\n",
       "bpm                                 0.000000\n",
       "calories                            0.000000\n",
       "responsiveness_points_percentage    0.000000\n",
       "minutesToFallAsleep                 0.000000\n",
       "dtype: float64"
      ]
     },
     "execution_count": 11,
     "metadata": {},
     "output_type": "execute_result"
    }
   ],
   "source": [
    "f2 = df['HAPPY']\n",
    "y = f2\n",
    "feature_importance = pd.Series(mutual_info_classif(X, y), index=X.columns).sort_values(ascending=False)\n",
    "feature_importance"
   ]
  },
  {
   "cell_type": "markdown",
   "metadata": {},
   "source": [
    "## NEUTRAL"
   ]
  },
  {
   "cell_type": "code",
   "execution_count": 12,
   "metadata": {},
   "outputs": [
    {
     "data": {
      "text/plain": [
       "filteredDemographicVO2Max           0.077827\n",
       "nremhr                              0.041066\n",
       "full_sleep_breathing_rate           0.033507\n",
       "daily_temperature_variation         0.031928\n",
       "sleep_wake_ratio                    0.031904\n",
       "rmssd                               0.031809\n",
       "max_goal                            0.031313\n",
       "calories                            0.029291\n",
       "sleep_rem_ratio                     0.025523\n",
       "resting_hr                          0.025018\n",
       "min_goal                            0.023693\n",
       "sleep_efficiency                    0.023132\n",
       "minutesAwake                        0.019239\n",
       "sleep_duration                      0.018250\n",
       "minutes_in_default_zone_1           0.017302\n",
       "distance                            0.016755\n",
       "sleep_deep_ratio                    0.016644\n",
       "sleep_light_ratio                   0.016460\n",
       "stress_score                        0.014684\n",
       "nightly_temperature                 0.013480\n",
       "responsiveness_points_percentage    0.012441\n",
       "lightly_active_minutes              0.011913\n",
       "bpm                                 0.011885\n",
       "sleep_points_percentage             0.011851\n",
       "very_active_minutes                 0.011134\n",
       "minutes_below_default_zone_1        0.010733\n",
       "minutes_in_default_zone_3           0.009457\n",
       "gender_FEMALE                       0.007709\n",
       "minutesAsleep                       0.004969\n",
       "exertion_points_percentage          0.001441\n",
       "minutes_in_default_zone_2           0.000492\n",
       "bmi                                 0.000000\n",
       "age                                 0.000000\n",
       "minutesToFallAsleep                 0.000000\n",
       "steps                               0.000000\n",
       "minutesAfterWakeup                  0.000000\n",
       "mindfulness_session                 0.000000\n",
       "sedentary_minutes                   0.000000\n",
       "moderately_active_minutes           0.000000\n",
       "gender_MALE                         0.000000\n",
       "dtype: float64"
      ]
     },
     "execution_count": 12,
     "metadata": {},
     "output_type": "execute_result"
    }
   ],
   "source": [
    "f3 = df['NEUTRAL']\n",
    "y = f3\n",
    "feature_importance = pd.Series(mutual_info_classif(X, y), index=X.columns).sort_values(ascending=False)\n",
    "feature_importance"
   ]
  },
  {
   "cell_type": "markdown",
   "metadata": {},
   "source": [
    "## RESTED/RELAXED"
   ]
  },
  {
   "cell_type": "code",
   "execution_count": 13,
   "metadata": {},
   "outputs": [
    {
     "data": {
      "text/plain": [
       "filteredDemographicVO2Max           0.067743\n",
       "daily_temperature_variation         0.035502\n",
       "exertion_points_percentage          0.034665\n",
       "rmssd                               0.033684\n",
       "bmi                                 0.032210\n",
       "lightly_active_minutes              0.030308\n",
       "nremhr                              0.029547\n",
       "sleep_rem_ratio                     0.025203\n",
       "sleep_deep_ratio                    0.024471\n",
       "sleep_efficiency                    0.022687\n",
       "nightly_temperature                 0.020440\n",
       "gender_FEMALE                       0.020326\n",
       "min_goal                            0.020152\n",
       "sleep_wake_ratio                    0.018924\n",
       "minutesAfterWakeup                  0.018274\n",
       "full_sleep_breathing_rate           0.017613\n",
       "max_goal                            0.017448\n",
       "sleep_points_percentage             0.017171\n",
       "minutesAwake                        0.015898\n",
       "responsiveness_points_percentage    0.015818\n",
       "gender_MALE                         0.014265\n",
       "resting_hr                          0.013852\n",
       "distance                            0.011934\n",
       "sedentary_minutes                   0.011000\n",
       "sleep_light_ratio                   0.009338\n",
       "stress_score                        0.007086\n",
       "calories                            0.006394\n",
       "minutes_below_default_zone_1        0.005731\n",
       "sleep_duration                      0.004753\n",
       "minutes_in_default_zone_1           0.003460\n",
       "very_active_minutes                 0.001454\n",
       "minutes_in_default_zone_3           0.001076\n",
       "age                                 0.000000\n",
       "bpm                                 0.000000\n",
       "minutesAsleep                       0.000000\n",
       "minutes_in_default_zone_2           0.000000\n",
       "steps                               0.000000\n",
       "moderately_active_minutes           0.000000\n",
       "mindfulness_session                 0.000000\n",
       "minutesToFallAsleep                 0.000000\n",
       "dtype: float64"
      ]
     },
     "execution_count": 13,
     "metadata": {},
     "output_type": "execute_result"
    }
   ],
   "source": [
    "f4 = df['RESTED/RELAXED']\n",
    "y = f4\n",
    "feature_importance = pd.Series(mutual_info_classif(X, y), index=X.columns).sort_values(ascending=False)\n",
    "feature_importance"
   ]
  },
  {
   "cell_type": "markdown",
   "metadata": {},
   "source": [
    "## SAD"
   ]
  },
  {
   "cell_type": "code",
   "execution_count": 14,
   "metadata": {},
   "outputs": [
    {
     "data": {
      "text/plain": [
       "resting_hr                          0.018897\n",
       "full_sleep_breathing_rate           0.014986\n",
       "filteredDemographicVO2Max           0.012993\n",
       "max_goal                            0.012038\n",
       "distance                            0.009309\n",
       "very_active_minutes                 0.008880\n",
       "moderately_active_minutes           0.008295\n",
       "age                                 0.006944\n",
       "minutes_in_default_zone_2           0.006811\n",
       "sleep_efficiency                    0.006266\n",
       "minutesAfterWakeup                  0.005062\n",
       "bpm                                 0.004328\n",
       "minutes_in_default_zone_3           0.004309\n",
       "gender_MALE                         0.004192\n",
       "sleep_duration                      0.003662\n",
       "minutesToFallAsleep                 0.003628\n",
       "sleep_wake_ratio                    0.003487\n",
       "stress_score                        0.003399\n",
       "min_goal                            0.003184\n",
       "nightly_temperature                 0.003063\n",
       "steps                               0.002340\n",
       "bmi                                 0.002061\n",
       "exertion_points_percentage          0.001929\n",
       "responsiveness_points_percentage    0.000892\n",
       "sleep_points_percentage             0.000047\n",
       "gender_FEMALE                       0.000000\n",
       "rmssd                               0.000000\n",
       "minutes_below_default_zone_1        0.000000\n",
       "minutes_in_default_zone_1           0.000000\n",
       "sedentary_minutes                   0.000000\n",
       "mindfulness_session                 0.000000\n",
       "sleep_light_ratio                   0.000000\n",
       "sleep_deep_ratio                    0.000000\n",
       "daily_temperature_variation         0.000000\n",
       "minutesAwake                        0.000000\n",
       "minutesAsleep                       0.000000\n",
       "nremhr                              0.000000\n",
       "calories                            0.000000\n",
       "lightly_active_minutes              0.000000\n",
       "sleep_rem_ratio                     0.000000\n",
       "dtype: float64"
      ]
     },
     "execution_count": 14,
     "metadata": {},
     "output_type": "execute_result"
    }
   ],
   "source": [
    "f5 = df['SAD']\n",
    "y = f5\n",
    "feature_importance = pd.Series(mutual_info_classif(X, y), index=X.columns).sort_values(ascending=False)\n",
    "feature_importance"
   ]
  },
  {
   "cell_type": "markdown",
   "metadata": {},
   "source": [
    "## TENSE/ANXIOUS"
   ]
  },
  {
   "cell_type": "code",
   "execution_count": 15,
   "metadata": {},
   "outputs": [
    {
     "data": {
      "text/plain": [
       "sleep_light_ratio                   0.026416\n",
       "min_goal                            0.022077\n",
       "rmssd                               0.016004\n",
       "bmi                                 0.015868\n",
       "filteredDemographicVO2Max           0.014862\n",
       "max_goal                            0.014469\n",
       "nremhr                              0.014190\n",
       "steps                               0.010723\n",
       "gender_FEMALE                       0.010646\n",
       "stress_score                        0.010491\n",
       "minutes_in_default_zone_1           0.008572\n",
       "sleep_efficiency                    0.008339\n",
       "bpm                                 0.007933\n",
       "minutesAsleep                       0.007906\n",
       "responsiveness_points_percentage    0.007272\n",
       "age                                 0.007211\n",
       "daily_temperature_variation         0.007098\n",
       "resting_hr                          0.007055\n",
       "full_sleep_breathing_rate           0.006560\n",
       "distance                            0.004243\n",
       "sleep_deep_ratio                    0.004145\n",
       "gender_MALE                         0.003852\n",
       "minutesAwake                        0.003555\n",
       "sleep_points_percentage             0.003291\n",
       "nightly_temperature                 0.002897\n",
       "mindfulness_session                 0.002648\n",
       "sleep_rem_ratio                     0.002508\n",
       "sleep_wake_ratio                    0.002189\n",
       "sleep_duration                      0.001204\n",
       "minutesAfterWakeup                  0.000000\n",
       "sedentary_minutes                   0.000000\n",
       "minutes_below_default_zone_1        0.000000\n",
       "minutes_in_default_zone_2           0.000000\n",
       "minutes_in_default_zone_3           0.000000\n",
       "very_active_minutes                 0.000000\n",
       "moderately_active_minutes           0.000000\n",
       "lightly_active_minutes              0.000000\n",
       "calories                            0.000000\n",
       "exertion_points_percentage          0.000000\n",
       "minutesToFallAsleep                 0.000000\n",
       "dtype: float64"
      ]
     },
     "execution_count": 15,
     "metadata": {},
     "output_type": "execute_result"
    }
   ],
   "source": [
    "f6 = df['TENSE/ANXIOUS']\n",
    "y = f6\n",
    "feature_importance = pd.Series(mutual_info_classif(X, y), index=X.columns).sort_values(ascending=False)\n",
    "feature_importance"
   ]
  },
  {
   "cell_type": "markdown",
   "metadata": {},
   "source": [
    "## TIRED"
   ]
  },
  {
   "cell_type": "code",
   "execution_count": 16,
   "metadata": {},
   "outputs": [
    {
     "data": {
      "text/plain": [
       "sleep_light_ratio                   0.027422\n",
       "minutesAfterWakeup                  0.025356\n",
       "sleep_rem_ratio                     0.025341\n",
       "lightly_active_minutes              0.023611\n",
       "sleep_wake_ratio                    0.023028\n",
       "sleep_deep_ratio                    0.022298\n",
       "filteredDemographicVO2Max           0.021601\n",
       "gender_MALE                         0.021226\n",
       "sleep_points_percentage             0.021219\n",
       "daily_temperature_variation         0.020771\n",
       "responsiveness_points_percentage    0.020726\n",
       "min_goal                            0.020363\n",
       "stress_score                        0.020194\n",
       "minutesToFallAsleep                 0.018578\n",
       "bpm                                 0.017511\n",
       "gender_FEMALE                       0.015522\n",
       "resting_hr                          0.015325\n",
       "minutesAwake                        0.015140\n",
       "bmi                                 0.015046\n",
       "full_sleep_breathing_rate           0.012568\n",
       "sedentary_minutes                   0.008866\n",
       "sleep_duration                      0.008334\n",
       "sleep_efficiency                    0.007428\n",
       "moderately_active_minutes           0.007000\n",
       "minutes_in_default_zone_3           0.006735\n",
       "max_goal                            0.006723\n",
       "minutes_below_default_zone_1        0.005882\n",
       "minutesAsleep                       0.004972\n",
       "distance                            0.004911\n",
       "age                                 0.004622\n",
       "steps                               0.004437\n",
       "very_active_minutes                 0.002019\n",
       "nightly_temperature                 0.001771\n",
       "minutes_in_default_zone_2           0.000000\n",
       "minutes_in_default_zone_1           0.000000\n",
       "calories                            0.000000\n",
       "rmssd                               0.000000\n",
       "nremhr                              0.000000\n",
       "mindfulness_session                 0.000000\n",
       "exertion_points_percentage          0.000000\n",
       "dtype: float64"
      ]
     },
     "execution_count": 16,
     "metadata": {},
     "output_type": "execute_result"
    }
   ],
   "source": [
    "f7 = df['TIRED']\n",
    "y = f7\n",
    "feature_importance = pd.Series(mutual_info_classif(X, y), index=X.columns).sort_values(ascending=False)\n",
    "feature_importance"
   ]
  },
  {
   "cell_type": "markdown",
   "metadata": {},
   "source": [
    "## ENTERTAINMENT"
   ]
  },
  {
   "cell_type": "code",
   "execution_count": 17,
   "metadata": {},
   "outputs": [
    {
     "data": {
      "text/plain": [
       "very_active_minutes                 0.024519\n",
       "sleep_wake_ratio                    0.019300\n",
       "sleep_duration                      0.017873\n",
       "sleep_rem_ratio                     0.016458\n",
       "sleep_efficiency                    0.012633\n",
       "distance                            0.011863\n",
       "nremhr                              0.011370\n",
       "minutesAwake                        0.010400\n",
       "minutes_below_default_zone_1        0.009777\n",
       "sleep_deep_ratio                    0.008752\n",
       "full_sleep_breathing_rate           0.008406\n",
       "min_goal                            0.007844\n",
       "resting_hr                          0.007495\n",
       "age                                 0.007164\n",
       "daily_temperature_variation         0.006852\n",
       "sleep_points_percentage             0.006479\n",
       "rmssd                               0.006014\n",
       "nightly_temperature                 0.005972\n",
       "minutes_in_default_zone_2           0.004829\n",
       "minutes_in_default_zone_3           0.004343\n",
       "lightly_active_minutes              0.003650\n",
       "minutesAfterWakeup                  0.003130\n",
       "filteredDemographicVO2Max           0.002807\n",
       "sedentary_minutes                   0.002718\n",
       "moderately_active_minutes           0.000573\n",
       "minutes_in_default_zone_1           0.000000\n",
       "bmi                                 0.000000\n",
       "max_goal                            0.000000\n",
       "gender_FEMALE                       0.000000\n",
       "minutesToFallAsleep                 0.000000\n",
       "steps                               0.000000\n",
       "sleep_light_ratio                   0.000000\n",
       "minutesAsleep                       0.000000\n",
       "mindfulness_session                 0.000000\n",
       "bpm                                 0.000000\n",
       "calories                            0.000000\n",
       "responsiveness_points_percentage    0.000000\n",
       "exertion_points_percentage          0.000000\n",
       "stress_score                        0.000000\n",
       "gender_MALE                         0.000000\n",
       "dtype: float64"
      ]
     },
     "execution_count": 17,
     "metadata": {},
     "output_type": "execute_result"
    }
   ],
   "source": [
    "#ENTERTAINMENT\n",
    "f8 = df['ENTERTAINMENT']\n",
    "y = f8\n",
    "feature_importance = pd.Series(mutual_info_classif(X, y), index=X.columns).sort_values(ascending=False)\n",
    "feature_importance"
   ]
  },
  {
   "cell_type": "markdown",
   "metadata": {},
   "source": [
    "## GYM"
   ]
  },
  {
   "cell_type": "code",
   "execution_count": 18,
   "metadata": {},
   "outputs": [
    {
     "data": {
      "text/plain": [
       "minutes_in_default_zone_2           0.006267\n",
       "filteredDemographicVO2Max           0.005581\n",
       "resting_hr                          0.004737\n",
       "sleep_duration                      0.004224\n",
       "minutes_in_default_zone_1           0.003962\n",
       "very_active_minutes                 0.003241\n",
       "bmi                                 0.002907\n",
       "minutesAsleep                       0.002853\n",
       "minutes_below_default_zone_1        0.001601\n",
       "bpm                                 0.001440\n",
       "minutesAfterWakeup                  0.001355\n",
       "moderately_active_minutes           0.000906\n",
       "full_sleep_breathing_rate           0.000841\n",
       "minutesToFallAsleep                 0.000839\n",
       "mindfulness_session                 0.000685\n",
       "nremhr                              0.000602\n",
       "max_goal                            0.000448\n",
       "sleep_wake_ratio                    0.000417\n",
       "calories                            0.000247\n",
       "sleep_efficiency                    0.000098\n",
       "sleep_rem_ratio                     0.000010\n",
       "sleep_light_ratio                   0.000000\n",
       "minutes_in_default_zone_3           0.000000\n",
       "age                                 0.000000\n",
       "min_goal                            0.000000\n",
       "steps                               0.000000\n",
       "gender_FEMALE                       0.000000\n",
       "nightly_temperature                 0.000000\n",
       "sleep_deep_ratio                    0.000000\n",
       "minutesAwake                        0.000000\n",
       "sedentary_minutes                   0.000000\n",
       "lightly_active_minutes              0.000000\n",
       "distance                            0.000000\n",
       "daily_temperature_variation         0.000000\n",
       "responsiveness_points_percentage    0.000000\n",
       "exertion_points_percentage          0.000000\n",
       "sleep_points_percentage             0.000000\n",
       "stress_score                        0.000000\n",
       "rmssd                               0.000000\n",
       "gender_MALE                         0.000000\n",
       "dtype: float64"
      ]
     },
     "execution_count": 18,
     "metadata": {},
     "output_type": "execute_result"
    }
   ],
   "source": [
    "\n",
    "f9 = df['GYM']\n",
    "y = f9\n",
    "feature_importance = pd.Series(mutual_info_classif(X, y), index=X.columns).sort_values(ascending=False)\n",
    "feature_importance"
   ]
  },
  {
   "cell_type": "markdown",
   "metadata": {},
   "source": [
    "## HOME"
   ]
  },
  {
   "cell_type": "code",
   "execution_count": 19,
   "metadata": {},
   "outputs": [
    {
     "data": {
      "text/plain": [
       "rmssd                               0.041839\n",
       "nremhr                              0.037225\n",
       "daily_temperature_variation         0.035395\n",
       "sleep_deep_ratio                    0.035020\n",
       "sleep_duration                      0.034649\n",
       "min_goal                            0.033279\n",
       "max_goal                            0.030750\n",
       "filteredDemographicVO2Max           0.029622\n",
       "sleep_efficiency                    0.021531\n",
       "stress_score                        0.020830\n",
       "full_sleep_breathing_rate           0.019820\n",
       "distance                            0.019609\n",
       "steps                               0.019280\n",
       "nightly_temperature                 0.019027\n",
       "sedentary_minutes                   0.018488\n",
       "minutes_in_default_zone_1           0.017691\n",
       "sleep_rem_ratio                     0.017104\n",
       "sleep_wake_ratio                    0.016316\n",
       "minutesAfterWakeup                  0.016023\n",
       "minutesAsleep                       0.015587\n",
       "sleep_light_ratio                   0.014852\n",
       "responsiveness_points_percentage    0.014184\n",
       "age                                 0.013724\n",
       "very_active_minutes                 0.012315\n",
       "bmi                                 0.011591\n",
       "exertion_points_percentage          0.008203\n",
       "sleep_points_percentage             0.007456\n",
       "minutesToFallAsleep                 0.007189\n",
       "bpm                                 0.005890\n",
       "minutes_below_default_zone_1        0.004965\n",
       "lightly_active_minutes              0.004107\n",
       "calories                            0.002467\n",
       "gender_FEMALE                       0.001208\n",
       "minutes_in_default_zone_2           0.000125\n",
       "minutesAwake                        0.000000\n",
       "resting_hr                          0.000000\n",
       "mindfulness_session                 0.000000\n",
       "minutes_in_default_zone_3           0.000000\n",
       "moderately_active_minutes           0.000000\n",
       "gender_MALE                         0.000000\n",
       "dtype: float64"
      ]
     },
     "execution_count": 19,
     "metadata": {},
     "output_type": "execute_result"
    }
   ],
   "source": [
    "\n",
    "f10 = df['HOME']\n",
    "y = f10\n",
    "feature_importance = pd.Series(mutual_info_classif(X, y), index=X.columns).sort_values(ascending=False)\n",
    "feature_importance"
   ]
  },
  {
   "cell_type": "code",
   "execution_count": null,
   "metadata": {},
   "outputs": [],
   "source": []
  }
 ],
 "metadata": {
  "kernelspec": {
   "display_name": "Python 3",
   "language": "python",
   "name": "python3"
  },
  "language_info": {
   "codemirror_mode": {
    "name": "ipython",
    "version": 3
   },
   "file_extension": ".py",
   "mimetype": "text/x-python",
   "name": "python",
   "nbconvert_exporter": "python",
   "pygments_lexer": "ipython3",
   "version": "3.11.6"
  }
 },
 "nbformat": 4,
 "nbformat_minor": 2
}
